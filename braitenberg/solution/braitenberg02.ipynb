{
 "cells": [
  {
   "cell_type": "code",
   "execution_count": null,
   "id": "491e1639",
   "metadata": {},
   "outputs": [],
   "source": [
    "%load_ext autoreload\n",
    "%autoreload 2\n",
    "%matplotlib inline\n",
    "%pylab inline\n",
    "import numpy as np\n",
    "from typing import Tuple\n",
    "import duckietown_code_utils as dcu;\n",
    "import cv2;\n",
    "%matplotlib inline\n",
    "%pylab inline"
   ]
  },
  {
   "cell_type": "markdown",
   "id": "a5bace81",
   "metadata": {},
   "source": [
    "# Image filtering"
   ]
  },
  {
   "cell_type": "markdown",
   "id": "6b55b0b8",
   "metadata": {},
   "source": [
    "Now we want to do some basic filtering of the images.\n",
    "\n",
    "In particular, let's say we want to avoid hitting duckies.\n",
    "\n",
    "We then need to highlight our duckies in the image."
   ]
  },
  {
   "cell_type": "markdown",
   "id": "385c9486",
   "metadata": {},
   "source": [
    "Let's load a test image."
   ]
  },
  {
   "cell_type": "code",
   "execution_count": null,
   "id": "5befb3ed",
   "metadata": {},
   "outputs": [],
   "source": [
    "fn = '../samples/big-duck/dt-social-04_08_2021_19_43_07.jpg'\n",
    "image = dcu.rgb_from_jpg_fn(fn)\n",
    "imshow(image);"
   ]
  },
  {
   "cell_type": "markdown",
   "id": "53d872d7",
   "metadata": {},
   "source": [
    "Let's now convert it to [HSV color space](https://en.wikipedia.org/wiki/HSL_and_HSV) so that it is easier to filter by colors. \n"
   ]
  },
  {
   "cell_type": "code",
   "execution_count": null,
   "id": "4bb627c9",
   "metadata": {},
   "outputs": [],
   "source": [
    "hsv = cv2.cvtColor(image, cv2.COLOR_RGB2HSV)"
   ]
  },
  {
   "cell_type": "markdown",
   "id": "6e4134ca",
   "metadata": {},
   "source": [
    "We now apply the simple image processing technique. We want to highlight the region corresponding to a certain color. We define a region in HSV space with the following lower/upper bound:"
   ]
  },
  {
   "cell_type": "code",
   "execution_count": null,
   "id": "f12b2ce3",
   "metadata": {},
   "outputs": [],
   "source": [
    "lower_hsv = np.array([171, 140, 0])\n",
    "upper_hsv = np.array([179, 200, 255])"
   ]
  },
  {
   "cell_type": "markdown",
   "id": "3cc1ddab",
   "metadata": {},
   "source": [
    "This means that, e.g., we are going to select only the pixels whose HSV value is between 171 and 179,"
   ]
  },
  {
   "cell_type": "markdown",
   "id": "a4d0584a",
   "metadata": {},
   "source": [
    "This is how to do the filtering and show the result:"
   ]
  },
  {
   "cell_type": "code",
   "execution_count": null,
   "id": "351b8273",
   "metadata": {},
   "outputs": [],
   "source": [
    "mask = cv2.inRange(hsv, lower_hsv, upper_hsv)\n",
    "masked = cv2.bitwise_and(image, image, mask=mask)\n",
    "imshow(masked);"
   ]
  },
  {
   "cell_type": "markdown",
   "id": "3dec071d",
   "metadata": {},
   "source": [
    "The bounds we put by default highlight the beak. But we want the yellow of the duckie!\n",
    "\n",
    "Your task now is to change those numbers above so that we highlight the duckies.\n",
    "\n",
    "For this we suggest to use:\n",
    "\n",
    "1. [This online color picker](https://pinetools.com/image-color-picker) to click around and get familiar with what color corresponds to which HSV values. (You can use any other tool)\n",
    "2. In this folder there is a program called `HSV-bound.py` which you can run as `python HSV-bound.py <filename>` which will allow you to do this step interactively.\n"
   ]
  },
  {
   "cell_type": "markdown",
   "id": "4ca6f98e",
   "metadata": {},
   "source": [
    "For reference, this is how it should look like."
   ]
  },
  {
   "cell_type": "code",
   "execution_count": null,
   "id": "07c0328b",
   "metadata": {},
   "outputs": [],
   "source": [
    "result = dcu.rgb_from_jpg_fn('../samples/result.jpg')\n",
    "imshow(result);"
   ]
  },
  {
   "cell_type": "markdown",
   "id": "120567e2",
   "metadata": {},
   "source": [
    "After you have a satisfactory result, put your values in the file [preprocess.py](preprocess.py)."
   ]
  }
 ],
 "metadata": {
  "kernelspec": {
   "display_name": "",
   "language": "python",
   "name": ""
  },
  "language_info": {
   "codemirror_mode": {
    "name": "ipython",
    "version": 3
   },
   "file_extension": ".py",
   "mimetype": "text/x-python",
   "name": "python",
   "nbconvert_exporter": "python",
   "pygments_lexer": "ipython3",
   "version": "3.8.5"
  }
 },
 "nbformat": 4,
 "nbformat_minor": 5
}
