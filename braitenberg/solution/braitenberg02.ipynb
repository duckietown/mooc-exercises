{
 "cells": [
  {
   "cell_type": "code",
   "execution_count": null,
   "id": "f183fe0a",
   "metadata": {},
   "outputs": [],
   "source": [
    "%load_ext autoreload\n",
    "%autoreload 2\n",
    "%matplotlib inline\n",
    "%pylab inline\n",
    "import numpy as np\n",
    "from typing import Tuple\n",
    "import duckietown_code_utils as dcu;\n",
    "import cv2;\n",
    "%matplotlib inline\n",
    "%pylab inline"
   ]
  },
  {
   "cell_type": "markdown",
   "id": "53d435c0",
   "metadata": {},
   "source": [
    "# Image filtering"
   ]
  },
  {
   "cell_type": "markdown",
   "id": "7f78aa59",
   "metadata": {},
   "source": [
    "Now we want to do some basic filtering of the images.\n",
    "\n",
    "In particular, let's say we want to avoid hitting duckies.\n",
    "\n",
    "We then need to highlight our duckies in the image."
   ]
  },
  {
   "cell_type": "markdown",
   "id": "3ce63856",
   "metadata": {},
   "source": [
    "Let's load a test image."
   ]
  },
  {
   "cell_type": "code",
   "execution_count": null,
   "id": "9c91efe8",
   "metadata": {},
   "outputs": [],
   "source": [
    "fn = '../samples/big-duck/big-duck-10.jpg' # experiment with different images! \n",
    "image = dcu.rgb_from_jpg_fn(fn)\n",
    "imshow(image);"
   ]
  },
  {
   "cell_type": "markdown",
   "id": "f8df90f5",
   "metadata": {},
   "source": [
    "Let's now convert it to [HSV color space](https://en.wikipedia.org/wiki/HSL_and_HSV) so that it is easier to filter by colors. \n"
   ]
  },
  {
   "cell_type": "code",
   "execution_count": null,
   "id": "c0109611",
   "metadata": {},
   "outputs": [],
   "source": [
    "hsv = cv2.cvtColor(image, cv2.COLOR_RGB2HSV)"
   ]
  },
  {
   "cell_type": "markdown",
   "id": "a0bfd537",
   "metadata": {},
   "source": [
    "We now apply a simple image processing technique to highlight the region corresponding to a certain color. \n",
    "\n",
    "We define a region in HSV space with the following lower/upper bounds:"
   ]
  },
  {
   "cell_type": "code",
   "execution_count": null,
   "id": "179fd52d",
   "metadata": {},
   "outputs": [],
   "source": [
    "lower_hsv = np.array([171, 140, 0])\n",
    "upper_hsv = np.array([179, 200, 255])"
   ]
  },
  {
   "cell_type": "markdown",
   "id": "bcad88a7",
   "metadata": {},
   "source": [
    "This means that, e.g., we are going to select only the pixels whose HSV value is between 171 and 179,"
   ]
  },
  {
   "cell_type": "markdown",
   "id": "e279844a",
   "metadata": {},
   "source": [
    "This is how to do the filtering and show the result:"
   ]
  },
  {
   "cell_type": "code",
   "execution_count": null,
   "id": "979dcb98",
   "metadata": {},
   "outputs": [],
   "source": [
    "mask = cv2.inRange(hsv, lower_hsv, upper_hsv)\n",
    "masked = cv2.bitwise_and(image, image, mask=mask)\n",
    "imshow(masked);"
   ]
  },
  {
   "cell_type": "markdown",
   "id": "f937adf2",
   "metadata": {},
   "source": [
    "The bounds we put by default highlight the beak. But we want the yellow of the duckie!"
   ]
  },
  {
   "cell_type": "markdown",
   "id": "af89f335",
   "metadata": {},
   "source": [
    "## Activity\n",
    "\n",
    "Your task now is to change those numbers above so that we highlight the duckies.\n",
    "\n",
    "For this we suggest to use:\n",
    "\n",
    "1. [This online color picker](https://pinetools.com/image-color-picker) to click around and get familiar with what color corresponds to which HSV values. (You can use any other tool, the link is just for reference.)\n",
    "\n",
    "2. In the folder of this notebook there is a program called `HSV-bound.py` which will allow you to do this step interactively, [as shown in this video](https://vimeo.com/534995276).\n",
    "\n",
    "To get this interactive method running, open a terminal on your computer, navigate to the exercise folder (`mooc-exercises/braitenberg/`) and type: \n",
    "\n",
    "\n",
    "    dts start_gui_tools --vnc --mount $PWD:/braitenberg\n",
    "\n",
    "\n",
    "then follow the instructions on the terminal to get inside VNC. Once in VNC, open a LXterminal (icon on the Desktop), and run\n",
    "\n",
    "    python /braitenberg/solution/HSV-bound.py /braitenberg/samples/IMAGENAME\n",
    "\n",
    "where `IMAGENAME` (including the path and filetype, e.g., `/big-duck/big-duck-10.jpg`) is an image in one of the `samples` subfolders.  "
   ]
  },
  {
   "cell_type": "markdown",
   "id": "03a99071",
   "metadata": {},
   "source": [
    "For reference, this is how an end result would look like."
   ]
  },
  {
   "cell_type": "code",
   "execution_count": null,
   "id": "30b3f990",
   "metadata": {
    "scrolled": true
   },
   "outputs": [],
   "source": [
    "result = dcu.rgb_from_jpg_fn('../samples/result.jpg')\n",
    "imshow(result);"
   ]
  },
  {
   "cell_type": "markdown",
   "id": "a4c9fc83",
   "metadata": {},
   "source": [
    "After you have a satisfactory result, put your values in the file [preprocessing.py](http://localhost:8888/doc/tree/solution/preprocessing.py)."
   ]
  },
  {
   "cell_type": "markdown",
   "id": "94d15315",
   "metadata": {},
   "source": [
    "Now go on to the [third notebook](braitenberg03.ipynb)."
   ]
  },
  {
   "cell_type": "code",
   "execution_count": null,
   "id": "05b6bd71",
   "metadata": {},
   "outputs": [],
   "source": []
  }
 ],
 "metadata": {
  "kernelspec": {
   "display_name": "",
   "language": "python",
   "name": ""
  },
  "language_info": {
   "codemirror_mode": {
    "name": "ipython",
    "version": 3
   },
   "file_extension": ".py",
   "mimetype": "text/x-python",
   "name": "python",
   "nbconvert_exporter": "python",
   "pygments_lexer": "ipython3",
   "version": "3.8.5"
  }
 },
 "nbformat": 4,
 "nbformat_minor": 5
}
