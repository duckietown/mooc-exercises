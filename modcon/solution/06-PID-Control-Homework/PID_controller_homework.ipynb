{
 "cells": [
  {
   "cell_type": "markdown",
   "metadata": {},
   "source": [
    "<p style=\"text-align: right\">\n",
    "  <img src=\"../images/dtlogo.png\" alt=\"Logo\" width=\"200\">\n",
    "</p>"
   ]
  },
  {
   "cell_type": "markdown",
   "metadata": {
    "tags": []
   },
   "source": [
    "# 💻 06 - PID controller homework"
   ]
  },
  {
   "cell_type": "markdown",
   "metadata": {
    "tags": []
   },
   "source": [
    "In this exercise you will have to write the code for a PID controller tasked to command the angular speed of your Duckiebot to compensate an initial tracking error of $0.2 \\text{m}$. \n",
    "\n",
    "Your robot will have to rely on its own odometry to estimate its current position.\n",
    "\n",
    "**Note**: the function(s) used to compute the odometry will be taken from your previous answers in the [odometry activity](../04-Odometry/odometry_activity.ipynb). Make sure you're happy about them, too!\n",
    "\n",
    "The Duckiebot's speed is constant and given: $v_0 = 0.2$. \n",
    "\n",
    "May the duck be with you!"
   ]
  },
  {
   "cell_type": "markdown",
   "metadata": {},
   "source": [
    "⚠️ ***WARNING:***\n",
    "- DO NOT CHANGE THE NAME OF THE FOLLOWING FUNCTION\n",
    "- DO NOT CHANGE THE ARGUMENTS OF THE FUNCTION\n",
    "- DO NOT CREATE NEW CODE CELLS, THEY WILL NOT BE CONSIDERED"
   ]
  },
  {
   "cell_type": "code",
   "execution_count": null,
   "metadata": {
    "tags": [
     "export"
    ]
   },
   "outputs": [],
   "source": [
    "import numpy as np\n",
    "\n",
    "# Lateral control\n",
    "\n",
    "# TODO: write the PID controller using what you've learned in the previous activities\n",
    "\n",
    "# Note: y_hat will be calculated based on your DeltaPhi() and poseEstimate() functions written previously \n",
    "\n",
    "def PIDController(\n",
    "    v_0, # assume given (by the scenario)\n",
    "    y_ref, # assume given (by the scenario)\n",
    "    y_hat, # assume given (by the odometry)\n",
    "    prev_e_y, # assume given (by the previous iteration of this function)\n",
    "    prev_int_y, # assume given (by the previous iteration of this function)\n",
    "    delta_t): # assume given (by the simulator)\n",
    "    \"\"\"\n",
    "    Args:\n",
    "        v_0 (:double:) linear Duckiebot speed.\n",
    "        y_ref (:double:) reference lateral pose\n",
    "        y_hat (:double:) the current estiamted pose along y.\n",
    "        prev_e_y (:double:) tracking error at previous iteration.\n",
    "        prev_int_y (:double:) previous integral error term.\n",
    "        delta_t (:double:) time interval since last call.\n",
    "    returns:\n",
    "        v_0 (:double:) linear velocity of the Duckiebot \n",
    "        omega (:double:) angular velocity of the Duckiebot\n",
    "        e_y (:double:) current tracking error (automatically becomes prev_e_y at next iteration).\n",
    "        e_int_y (:double:) current integral error (automatically becomes prev_int_y at next iteration).\n",
    "    \"\"\"\n",
    "    \n",
    "    # TODO: these are random values, you have to implement your own PID controller in here\n",
    "    omega = np.random.uniform(-8.0, 8.0)\n",
    "    e_y = np.random.random()\n",
    "    e_int_y = np.random.random()\n",
    "    \n",
    "    return [v_0, omega], e_y, e_int_y\n"
   ]
  },
  {
   "cell_type": "markdown",
   "metadata": {},
   "source": [
    "### Sanity Check"
   ]
  },
  {
   "cell_type": "code",
   "execution_count": null,
   "metadata": {},
   "outputs": [],
   "source": [
    "import sys\n",
    "sys.path.append('../')\n",
    "from unit_test import UnitTestPositionPID\n",
    "\n",
    "# Write here the values of the kinematics parameters you calculated during the activities.\n",
    "# This test will give you an idea of the behavior of the controller you wrote above.\n",
    "# Try to play with the parameters, change R, the baseline all the PID variables,\n",
    "# What change in the resulting graphs? Why?\n",
    "\n",
    "R = 0.0318\n",
    "baseline = 0.1\n",
    "gain = 0.6\n",
    "trim = 0.0\n",
    "v_0 = 0.2\n",
    "y_ref = 0.2\n",
    "\n",
    "# unit test input R, baseline, v_0, gain, trim, PIDController\n",
    "unit_test = UnitTestPositionPID(R, baseline, v_0, y_ref, gain, trim, PIDController) \n",
    "unit_test.test()\n"
   ]
  },
  {
   "cell_type": "markdown",
   "metadata": {},
   "source": [
    "## Testing instructions and outcome examples\n",
    "\n",
    "Here are some examples of stable outcomes (not necessarily the best you can get):\n",
    "\n",
    "### 💻 Simulation \n",
    "\n",
    "1. Write the controller above, save this page (`Ctrl-S`), run:\n",
    "\n",
    "\n",
    "        dts exercises test --sim\n",
    "\n",
    "\n",
    "2. Click on the \"PID Exercise\" icon on the VNC desktop\n",
    "\n",
    "3. Bring up the interaction panel (it might be hidden behind RVIZ, highlight it through the shortcut on the bottom bar of VNC) and type the desired reference position $y_{ref}$ (in **meters**) and Duckiebot linear speed ($v_0$). \n",
    "\n",
    "4. Press on `Send Commands` to start, `Stop` to stop. \n",
    "\n",
    "5. `Ctrl-C` on the computer terminal used to launch the simulator to close the instance. \n",
    "\n",
    "<figure>\n",
    "  <div style=\"text-align:center;\">\n",
    "  <img src=\"../images/pid-control/pid-lateral-sim-good.png\" alt=\"pid-lateral-sim-1\" style=\"width: 300px;\"/>\n",
    "  <p> Simulation, lateral PID control. $v_{0} = 0.2$, $y_{ref} = [0.2, -0.1]$. </p>\n",
    "  </div>\n",
    "</figure>\n",
    "\n",
    "### 🚙 Duckiebot\n",
    "\n",
    "0. Make sure your Duckiebot is powered on and connected to the network.\n",
    "\n",
    "1. Write the controller above, save this page (`Ctrl-S`), run:\n",
    "\n",
    "\n",
    "        dts exercises test -b ROBOTNAME\n",
    "\n",
    "\n",
    "2. Click on the \"PID Exercise\" icon on the VNC desktop\n",
    "\n",
    "3. Bring up the interaction panel (it might be hidden behind RVIZ, highlight it through the shortcut on the bottom bar of VNC) and type the desired reference position $y_{ref}$ (in **meters**) and Duckiebot linear speed ($v_0$). \n",
    "\n",
    "4. Press on `Send Commands` to start, `Stop` to stop. \n",
    "\n",
    "5. `Ctrl-C` on the computer terminal used to launch the simulator to close the instance. \n",
    "\n",
    "<figure>\n",
    "  <div style=\"text-align:center;\">\n",
    "  <img src=\"../images/pid-control/pid-lateral-real-good.png\" alt=\"pid-lateral-real-1\" style=\"width: 300px;\"/>\n",
    "  <p> Duckiebot, lateral PID control. $v_{0} = 0.2$, $y_{ref} = [0.2, -0.2, 0.2]$. </p>\n",
    "  </div>\n",
    "</figure>"
   ]
  },
  {
   "cell_type": "markdown",
   "metadata": {},
   "source": [
    "# Local evaluation and remote submission of your homework exercise\n",
    "\n",
    "\n",
    "⚠️ You must submit this homework for evaluation by following the `Remote evalutation` instructions below.⚠️ \n",
    "\n",
    "## Local evaluation\n",
    "\n",
    "If you want (this is not necessary) you can evaluate your submission locally before shipping it to the cloud. This will provide you access to detailed performacne metrics of your controller on various episodes. Note that this will take a while to run (~30-60 minutes). \n",
    "\n",
    "1. Open a terminal, navigate to the exercise folder and run:\n",
    "\n",
    "\n",
    "        dts challenges evaluate\n",
    "        \n",
    "\n",
    "2. The result of the simulation can be visualized in realtime at the link printed by the evaluator, for example:\n",
    "\n",
    "<figure>\n",
    "  <div style=\"text-align:center;\">\n",
    "  <img src=\"../images/pid-exercise/screen-aido-eval.png\" alt=\"pid-lateral-real-1\" style=\"width: 900px;\"/>\n",
    "  <p> Visualize the simulation at the link printed during the evaluation. </p>\n",
    "  </div>\n",
    "</figure>\n",
    "\n",
    "3. The evaluation output is saved locally at the end of the evaluation process. \n",
    "\n",
    "## Remote submission (⚠️ This part is required to submit your homework ⚠️)\n",
    "\n",
    "You can submit your agent for evaluation by: \n",
    "\n",
    "1. Opening a terminal on your computer, navigating to the exercise folder and running:\n",
    "\n",
    "\n",
    "        dts challenges submit\n",
    "        \n",
    "\n",
    "2. The result of the submission can be visualized on the AI-DO challenges website.\n",
    "\n",
    "After some processing, you should see something like this:\n",
    "\n",
    "```\n",
    "\n",
    "~        ## Challenge mooc-modcon - MOOC - ModCon\n",
    "~        \n",
    "~                Track this submission at:\n",
    "~        \n",
    "~                    https://challenges.duckietown.org/v4/humans/submissions/SUBMISSION-NUMBER\n",
    "~        \n",
    "~                You can follow its fate using:\n",
    "~        \n",
    "~                    $ dts challenges follow --submission SUBMISSION-NUMBER\n",
    "~        \n",
    "~                You can speed up the evaluation using your own evaluator:\n",
    "~        \n",
    "~                    $ dts challenges evaluator --submission SUBMISSION-NUMBER\n",
    "~        \n",
    "~                For more information, see the manual at https://docs.duckietown.org/daffy/AIDO/out/\n",
    "~        \n",
    "\n",
    "```"
   ]
  },
  {
   "cell_type": "markdown",
   "metadata": {},
   "source": [
    "Congratulations, you have completed the modeling and control activities! "
   ]
  }
 ],
 "metadata": {
  "kernelspec": {
   "display_name": "Python 3 (ipykernel)",
   "language": "python",
   "name": "python3"
  },
  "language_info": {
   "codemirror_mode": {
    "name": "ipython",
    "version": 3
   },
   "file_extension": ".py",
   "mimetype": "text/x-python",
   "name": "python",
   "nbconvert_exporter": "python",
   "pygments_lexer": "ipython3",
   "version": "3.8.10"
  },
  "metadata": {
   "interpreter": {
    "hash": "31f2aee4e71d21fbe5cf8b01ff0e069b9275f58929596ceb00d14d90e3e16cd6"
   }
  }
 },
 "nbformat": 4,
 "nbformat_minor": 4
}
