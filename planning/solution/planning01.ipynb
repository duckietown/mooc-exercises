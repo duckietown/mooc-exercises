{
 "cells": [
  {
   "cell_type": "markdown",
   "metadata": {},
   "source": [
    "<img src=\"_media/dtlogo.png\"/>"
   ]
  },
  {
   "cell_type": "markdown",
   "metadata": {},
   "source": [
    "# Graphs tutorial\n",
    "\n",
    "In this activity we are going to explore how we can build, manipulate and search graphs. \n",
    "\n",
    "We use the [`networkx`][networkx] library for dealing with graphs.\n",
    "\n",
    "[networkx]: https://networkx.github.io"
   ]
  },
  {
   "cell_type": "code",
   "execution_count": null,
   "metadata": {},
   "outputs": [],
   "source": [
    "import networkx as nx"
   ]
  },
  {
   "cell_type": "markdown",
   "metadata": {},
   "source": [
    "Another tutorial is available [here](https://networkx.github.io/documentation/stable/tutorial.html).\n"
   ]
  },
  {
   "cell_type": "markdown",
   "metadata": {},
   "source": [
    "# Adding nodes and edges\n",
    "\n",
    "Use the class `MultiDiGraph` to create a directed graph with multiple edges and self-loops."
   ]
  },
  {
   "cell_type": "code",
   "execution_count": null,
   "metadata": {},
   "outputs": [],
   "source": [
    "G = nx.DiGraph() # Directed\n",
    "G = nx.MultiDiGraph()"
   ]
  },
  {
   "cell_type": "markdown",
   "metadata": {},
   "source": [
    "Add nodes using `add_node`:"
   ]
  },
  {
   "cell_type": "code",
   "execution_count": null,
   "metadata": {},
   "outputs": [],
   "source": [
    "G.add_node('node1')\n",
    "G.add_node('node2')\n",
    "G.add_node('node3')"
   ]
  },
  {
   "cell_type": "markdown",
   "metadata": {},
   "source": [
    "Check that a node is in the graph:"
   ]
  },
  {
   "cell_type": "code",
   "execution_count": null,
   "metadata": {},
   "outputs": [],
   "source": [
    "assert 'node1' in G"
   ]
  },
  {
   "cell_type": "markdown",
   "metadata": {},
   "source": [
    "Get all nodes:"
   ]
  },
  {
   "cell_type": "code",
   "execution_count": null,
   "metadata": {},
   "outputs": [],
   "source": [
    "list(G.nodes())"
   ]
  },
  {
   "cell_type": "markdown",
   "metadata": {},
   "source": [
    "Add some edges:"
   ]
  },
  {
   "cell_type": "code",
   "execution_count": null,
   "metadata": {},
   "outputs": [],
   "source": [
    "G.add_edge('node1', 'node2');"
   ]
  },
  {
   "cell_type": "markdown",
   "metadata": {},
   "source": [
    "Nodes get automatically added:"
   ]
  },
  {
   "cell_type": "code",
   "execution_count": null,
   "metadata": {},
   "outputs": [],
   "source": [
    "G.add_edge('node2', 'another1');\n",
    "G.add_edge('another1', 'another2');"
   ]
  },
  {
   "cell_type": "markdown",
   "metadata": {},
   "source": [
    "List edges:"
   ]
  },
  {
   "cell_type": "code",
   "execution_count": null,
   "metadata": {},
   "outputs": [],
   "source": [
    "list(G.edges()) # list of 2-tuples (from, to)"
   ]
  },
  {
   "cell_type": "code",
   "execution_count": null,
   "metadata": {},
   "outputs": [],
   "source": [
    "for a,b in G.edges():\n",
    "    print('edge from %s to %s' % (a, b))"
   ]
  },
  {
   "cell_type": "markdown",
   "metadata": {},
   "source": [
    "## Drawing graphs\n",
    "\n",
    "There are some minimal plotting capabilities."
   ]
  },
  {
   "cell_type": "code",
   "execution_count": null,
   "metadata": {},
   "outputs": [],
   "source": [
    "def draw_graph(G0, pos=None):\n",
    "    from matplotlib import pyplot as plt\n",
    "    pos = pos or nx.spring_layout(G0)\n",
    "    plt.figure(figsize=(12, 12))    \n",
    "    nx.draw(G0,pos,labels={node:node for node in G0.nodes()})\n",
    "    #nx.draw(G0,labels={node:node for node in G0.nodes()})\n",
    "    def edge_label(a, b):\n",
    "        datas = G0.get_edge_data(a, b)\n",
    "        s = '%d edge%s' % (len(datas), 's' if len(datas)>=2 else '')\n",
    "        for k, v in datas.items():\n",
    "            if v:\n",
    "                if 'label' in v:\n",
    "                    s += '\\n %s' % v['label']\n",
    "                else:\n",
    "                    s += '\\n %s' %v\n",
    "        return s\n",
    "    edge_labels = dict([ ((a,b), edge_label(a,b)) for a,b in G0.edges()])\n",
    "    nx.draw_networkx_edge_labels(G0,pos,edge_labels=edge_labels,font_color='red')\n",
    "    plt.axis('off')\n",
    "    plt.show()"
   ]
  },
  {
   "cell_type": "code",
   "execution_count": null,
   "metadata": {},
   "outputs": [],
   "source": [
    "draw_graph(G)"
   ]
  },
  {
   "cell_type": "markdown",
   "metadata": {},
   "source": [
    "## Multiple edges\n",
    "\n",
    "You can add a second edge between the nodes:"
   ]
  },
  {
   "cell_type": "code",
   "execution_count": null,
   "metadata": {},
   "outputs": [],
   "source": [
    "G.add_edge('node1', 'node2');"
   ]
  },
  {
   "cell_type": "markdown",
   "metadata": {},
   "source": [
    "Notice now how there are two copies of the same edge:"
   ]
  },
  {
   "cell_type": "code",
   "execution_count": null,
   "metadata": {},
   "outputs": [],
   "source": [
    "list(G.edges())"
   ]
  },
  {
   "cell_type": "markdown",
   "metadata": {},
   "source": [
    "Multiple edges in the graph:"
   ]
  },
  {
   "cell_type": "code",
   "execution_count": null,
   "metadata": {},
   "outputs": [],
   "source": [
    "draw_graph(G)"
   ]
  },
  {
   "cell_type": "markdown",
   "metadata": {},
   "source": [
    "## Attaching data to edges\n",
    "\n",
    "You can use the optional parameters of the `add_edge` method to attach some pieces of data.\n",
    "\n",
    "For example we add two more edges between `node1` and `node4` with property `prop` set to 12 and 15."
   ]
  },
  {
   "cell_type": "code",
   "execution_count": null,
   "metadata": {},
   "outputs": [],
   "source": [
    "G.add_edge('node1', 'node4',  prop=12);\n",
    "G.add_edge('node1', 'node4',  prop=15);"
   ]
  },
  {
   "cell_type": "code",
   "execution_count": null,
   "metadata": {},
   "outputs": [],
   "source": [
    "draw_graph(G)"
   ]
  },
  {
   "cell_type": "markdown",
   "metadata": {},
   "source": [
    "Using the function `get_edge_data` we can get the data attached to the edge.\n",
    "The function returns a dictionary 'edge-label -> properties', where `edge-label` is just an integer."
   ]
  },
  {
   "cell_type": "code",
   "execution_count": null,
   "metadata": {},
   "outputs": [],
   "source": [
    "data = G.get_edge_data('node1', 'node4');\n",
    "print(data)"
   ]
  },
  {
   "cell_type": "code",
   "execution_count": null,
   "metadata": {},
   "outputs": [],
   "source": [
    "for id_edge, edge_data in data.items():\n",
    "    print('edge %s: attribute  prop = %s' % (id_edge, edge_data['prop']))"
   ]
  },
  {
   "cell_type": "markdown",
   "metadata": {},
   "source": [
    "## Querying the graph\n",
    "\n",
    "Concepts:\n",
    "\n",
    "- neighbors: all nodes to which a node N connects\n",
    "- predecessors: all nodes connected to N\n",
    "- ancestors (transitive closure of predecessors)\n",
    "- successors\n",
    "- descendants (transitive closure of successors)"
   ]
  },
  {
   "cell_type": "code",
   "execution_count": null,
   "metadata": {},
   "outputs": [],
   "source": [
    "list(G.predecessors('node2'))"
   ]
  },
  {
   "cell_type": "code",
   "execution_count": null,
   "metadata": {},
   "outputs": [],
   "source": [
    "list(nx.ancestors(G, 'another2'))"
   ]
  },
  {
   "cell_type": "code",
   "execution_count": null,
   "metadata": {},
   "outputs": [],
   "source": [
    "list(G.successors('node2'))"
   ]
  },
  {
   "cell_type": "code",
   "execution_count": null,
   "metadata": {},
   "outputs": [],
   "source": [
    "list(nx.descendants(G, 'node2'))"
   ]
  },
  {
   "cell_type": "markdown",
   "metadata": {},
   "source": [
    "## Cycles\n",
    "\n",
    "Use the function `nx.simple_cycles` to get the cycles in the graph:"
   ]
  },
  {
   "cell_type": "code",
   "execution_count": null,
   "metadata": {},
   "outputs": [],
   "source": [
    "list(nx.simple_cycles(G))"
   ]
  },
  {
   "cell_type": "markdown",
   "metadata": {},
   "source": [
    "Let's create a more interesting graph:"
   ]
  },
  {
   "cell_type": "code",
   "execution_count": null,
   "metadata": {},
   "outputs": [],
   "source": [
    "G2 = nx.MultiDiGraph()\n",
    "edges = [\n",
    "    ('A', 'B'),\n",
    "    ('B', 'C'),\n",
    "    ('C', 'D'),\n",
    "    ('D', 'E'),\n",
    "    ('E', 'F'),\n",
    "    ('F', 'A'),\n",
    "    \n",
    "    ('A', 'G'),\n",
    "    ('G', 'H'),\n",
    "    ('H', 'A')]\n",
    "G2.add_edges_from(edges);"
   ]
  },
  {
   "cell_type": "code",
   "execution_count": null,
   "metadata": {},
   "outputs": [],
   "source": [
    "draw_graph(G2)"
   ]
  },
  {
   "cell_type": "markdown",
   "metadata": {},
   "source": [
    "The function returns a list of lists:"
   ]
  },
  {
   "cell_type": "code",
   "execution_count": null,
   "metadata": {},
   "outputs": [],
   "source": [
    "list(nx.simple_cycles(G2))"
   ]
  },
  {
   "cell_type": "markdown",
   "metadata": {},
   "source": [
    "## Paths\n",
    "\n",
    "Use `has_path` to check that two nodes are connected:"
   ]
  },
  {
   "cell_type": "code",
   "execution_count": null,
   "metadata": {},
   "outputs": [],
   "source": [
    "nx.has_path(G2, 'A', 'C')"
   ]
  },
  {
   "cell_type": "code",
   "execution_count": null,
   "metadata": {},
   "outputs": [],
   "source": [
    "nx.has_path(G2, 'C', 'A')"
   ]
  },
  {
   "cell_type": "markdown",
   "metadata": {},
   "source": [
    "But what are these paths? Use `nx.shortest_path` to find out:"
   ]
  },
  {
   "cell_type": "code",
   "execution_count": null,
   "metadata": {},
   "outputs": [],
   "source": [
    "nx.shortest_path(G2, 'A', 'C')"
   ]
  },
  {
   "cell_type": "code",
   "execution_count": null,
   "metadata": {},
   "outputs": [],
   "source": [
    "nx.shortest_path(G2, 'C', 'A')"
   ]
  },
  {
   "cell_type": "markdown",
   "metadata": {},
   "source": [
    "## Attaching data to nodes\n",
    "\n",
    "Use kwargs of `add_node` to add attributes to nodes:"
   ]
  },
  {
   "cell_type": "code",
   "execution_count": null,
   "metadata": {},
   "outputs": [],
   "source": [
    "M = nx.DiGraph()\n",
    "M.add_node('a', q=2)"
   ]
  },
  {
   "cell_type": "markdown",
   "metadata": {},
   "source": [
    "Get it back using this syntax: "
   ]
  },
  {
   "cell_type": "code",
   "execution_count": null,
   "metadata": {},
   "outputs": [],
   "source": [
    "M.nodes['a']"
   ]
  },
  {
   "cell_type": "markdown",
   "metadata": {},
   "source": [
    "## Example: pose network\n",
    "\n",
    "We create a *pose network*: a graph where each node represents a pose\n",
    "and each edge is a measurement.\n",
    "\n",
    "Let's create a grid-like network:"
   ]
  },
  {
   "cell_type": "code",
   "execution_count": null,
   "metadata": {},
   "outputs": [],
   "source": [
    "H, W = 4, 4\n",
    "grid_size = 0.61"
   ]
  },
  {
   "cell_type": "code",
   "execution_count": null,
   "metadata": {},
   "outputs": [],
   "source": [
    "import itertools\n",
    "import geometry as geo\n",
    "M = nx.MultiDiGraph()\n",
    "for i, j in itertools.product(range(H), range(W)):\n",
    "    # node name is a tuple \n",
    "    node_name = (i, j)\n",
    "    # create a pose \n",
    "    q = geo.SE2_from_translation_angle((i*grid_size, j*grid_size), 0)\n",
    "    M.add_node(node_name, q=q) # q as property"
   ]
  },
  {
   "cell_type": "code",
   "execution_count": null,
   "metadata": {},
   "outputs": [],
   "source": [
    "# let's plot them where they are supposed to go\n",
    "def position_for_node(node):\n",
    "    # node is a tuple (i,j)\n",
    "    # query the node properties\n",
    "    properties = M.nodes[node]\n",
    "    # get the pose set before\n",
    "    q = properties['q']\n",
    "    # extract the translation \n",
    "    t, _ = geo.translation_angle_from_SE2(q)\n",
    "    # that's my position\n",
    "    return t\n",
    "\n",
    "pos = dict([(node, position_for_node(node)) for node in M])\n",
    "\n",
    "draw_graph(M, pos=pos)"
   ]
  },
  {
   "cell_type": "markdown",
   "metadata": {},
   "source": [
    "Now let's create the network connections:"
   ]
  },
  {
   "cell_type": "code",
   "execution_count": null,
   "metadata": {},
   "outputs": [],
   "source": [
    "geo.SE2.friendly(geo.SE2.identity())"
   ]
  },
  {
   "cell_type": "code",
   "execution_count": null,
   "metadata": {},
   "outputs": [],
   "source": [
    "for i, j in itertools.product(range(H), range(W)):\n",
    "    # for each node\n",
    "    \n",
    "    # connect to neighbors\n",
    "    for d in [ (+1, 0), (0, +1), (+1,+1)]:\n",
    "        # neighbors coordinatex\n",
    "        i2, j2 = i+d[0], j+d[1]\n",
    "        # if neighbor exists\n",
    "        if (i2,j2) in M:\n",
    "            # add the connection\n",
    "            \n",
    "            # pose of the first node\n",
    "            q1 = M.nodes[(i,j)]['q']\n",
    "            # pose of the second node\n",
    "            q2 = M.nodes[(i2,j2)]['q']\n",
    "            # relative pose \n",
    "            relative_pose = geo.SE2.multiply(geo.SE2.inverse(q1), q2)\n",
    "            # label \n",
    "            label = geo.SE2.friendly(relative_pose)\n",
    "            # add the edge with two properties \"label\" and \"relative_pose\"\n",
    "            M.add_edge( (i,j), (i2,j2), label=label, relative_pose=relative_pose)\n",
    "            "
   ]
  },
  {
   "cell_type": "code",
   "execution_count": null,
   "metadata": {},
   "outputs": [],
   "source": [
    "draw_graph(M, pos=pos)"
   ]
  },
  {
   "cell_type": "markdown",
   "metadata": {},
   "source": [
    "Now let's find the relative position between two nodes using the graph functions. \n"
   ]
  },
  {
   "cell_type": "code",
   "execution_count": null,
   "metadata": {},
   "outputs": [],
   "source": [
    "# let's add inverse edges \n",
    "for node1, node2 in M.edges():\n",
    "    for id_edge, edge_data in M.get_edge_data(node1, node2).items():\n",
    "        r = edge_data['relative_pose']\n",
    "        rinv = geo.SE2.inverse(r)\n",
    "        label = geo.SE2.friendly(rinv)\n",
    "        M.add_edge(node2, node1, relative_pose=rinv, label=label)\n"
   ]
  },
  {
   "cell_type": "code",
   "execution_count": null,
   "metadata": {},
   "outputs": [],
   "source": [
    "draw_graph(M, pos=pos)"
   ]
  },
  {
   "cell_type": "code",
   "execution_count": null,
   "metadata": {},
   "outputs": [],
   "source": [
    "node1, node2 = (1,3), (2,1)"
   ]
  },
  {
   "cell_type": "code",
   "execution_count": null,
   "metadata": {},
   "outputs": [],
   "source": [
    "path = nx.shortest_path(M, node1, node2)\n",
    "print(path)"
   ]
  },
  {
   "cell_type": "markdown",
   "metadata": {},
   "source": [
    "Get the edges from this sequence of nodes:"
   ]
  },
  {
   "cell_type": "code",
   "execution_count": null,
   "metadata": {},
   "outputs": [],
   "source": [
    "zip(path[1:], path[:-1])"
   ]
  },
  {
   "cell_type": "code",
   "execution_count": null,
   "metadata": {},
   "outputs": [],
   "source": [
    "edges = list(zip(path[1:],path[:-1]))\n",
    "for a, b in edges:\n",
    "    print('edge from %s to %s' % (a,b ))"
   ]
  },
  {
   "cell_type": "markdown",
   "metadata": {},
   "source": [
    "We can recover the relative pose using `get_edge_data`:"
   ]
  },
  {
   "cell_type": "code",
   "execution_count": null,
   "metadata": {},
   "outputs": [],
   "source": [
    "deltas = []\n",
    "for a, b in edges:\n",
    "    R = M.get_edge_data(a, b)[0]['relative_pose']\n",
    "    deltas.append(R)\n",
    "    print('edge %s to %s: relative pose: %s' % (a, b, geo.SE2.friendly(R)))\n",
    "print(deltas)"
   ]
  },
  {
   "cell_type": "code",
   "execution_count": null,
   "metadata": {},
   "outputs": [],
   "source": [
    "def multiply_deltas(G, deltas):\n",
    "    S = geo.SE2.identity()\n",
    "    for R in deltas:\n",
    "        S = geo.SE2.multiply(S, R) # multiply on the right \n",
    "    return S"
   ]
  },
  {
   "cell_type": "code",
   "execution_count": null,
   "metadata": {},
   "outputs": [],
   "source": [
    "S = multiply_deltas(M, deltas)\n",
    "print(geo.SE2.friendly(S))"
   ]
  },
  {
   "cell_type": "markdown",
   "metadata": {},
   "source": [
    "Now proceed to the [planning exercise](planning02.ipynb)."
   ]
  },
  {
   "cell_type": "code",
   "execution_count": null,
   "metadata": {},
   "outputs": [],
   "source": []
  }
 ],
 "metadata": {
  "kernelspec": {
   "display_name": "Python 3 (ipykernel)",
   "language": "python",
   "name": "python3"
  },
  "language_info": {
   "codemirror_mode": {
    "name": "ipython",
    "version": 3
   },
   "file_extension": ".py",
   "mimetype": "text/x-python",
   "name": "python",
   "nbconvert_exporter": "python",
   "pygments_lexer": "ipython3",
   "version": "3.8.10"
  }
 },
 "nbformat": 4,
 "nbformat_minor": 4
}
