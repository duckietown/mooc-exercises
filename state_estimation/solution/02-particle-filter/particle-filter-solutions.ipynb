{
 "cells": [
  {
   "cell_type": "markdown",
   "metadata": {},
   "source": [
    "![](../images/dtlogo.png)"
   ]
  },
  {
   "cell_type": "code",
   "execution_count": 75,
   "metadata": {},
   "outputs": [],
   "source": [
    "# Let's define the covariances of our motion and measurement models (we can adjust these and see what happens)\n",
    "sigma_R = 0.01\n",
    "sigma_Q = 0.5"
   ]
  },
  {
   "cell_type": "code",
   "execution_count": 190,
   "metadata": {},
   "outputs": [],
   "source": [
    "class Particle():\n",
    "    def __init__(self, x, y, w):\n",
    "        self.state = np.array([x, y])\n",
    "        self.weight = w\n",
    "    \n",
    "    def predict(self, u_t):\n",
    "        # We need to sample the particle through the prediction function (will require sampling from the Gaussian)\n",
    "        motion_model_noise = np.random.normal(0, 0.01, size=self.state.shape)\n",
    "        self.state = self.state + u_t + motion_model_noise\n",
    "        \n",
    "    def update(self, z_t):\n",
    "        # We need to update the weights (will require evaluating the Gaussian pdf)\n",
    "        # You can make use of scipy.stats.multivariate_normal.pdf(points, mean, covariance) to do so.\n",
    "        Q = sigma_Q*np.identity(2)\n",
    "        self.weight = scipy.stats.multivariate_normal.pdf(self.state, z_t,Q)\n",
    "\n",
    "def sample_particle(particles):\n",
    "   total = sum(particle.weight for particle in particles)\n",
    "   r = random.uniform(0, total)\n",
    "   upto = 0\n",
    "   for particle in particles:\n",
    "      if upto + particle.weight >= r:\n",
    "         return particle\n",
    "      upto += particle.weight\n",
    "   assert False, \"Shouldn't get here\""
   ]
  }
 ],
 "metadata": {
  "kernelspec": {
   "display_name": "Python 3 (ipykernel)",
   "language": "python",
   "name": "python3"
  },
  "language_info": {
   "codemirror_mode": {
    "name": "ipython",
    "version": 3
   },
   "file_extension": ".py",
   "mimetype": "text/x-python",
   "name": "python",
   "nbconvert_exporter": "python",
   "pygments_lexer": "ipython3",
   "version": "3.8.10"
  }
 },
 "nbformat": 4,
 "nbformat_minor": 4
}
