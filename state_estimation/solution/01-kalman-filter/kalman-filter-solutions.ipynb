{
 "cells": [
  {
   "cell_type": "markdown",
   "metadata": {},
   "source": [
    "![](../images/dtlogo.png)"
   ]
  },
  {
   "cell_type": "code",
   "execution_count": 3,
   "metadata": {},
   "outputs": [],
   "source": [
    "def predict(A, B, Q, mu_t, u_t, Sigma_t):\n",
    "    predicted_mu = A @ mu_t + B @ u_t\n",
    "    predicted_Sigma = A @ Sigma_t @ A.T + Q\n",
    "    return predicted_mu, predicted_Sigma"
   ]
  },
  {
   "cell_type": "code",
   "execution_count": 4,
   "metadata": {},
   "outputs": [],
   "source": [
    "def update(H, R, z, predicted_mu, predicted_Sigma):\n",
    "    residual_mean = z - H @ predicted_mu\n",
    "    residual_covariance = H @ predicted_Sigma @ H.T + R\n",
    "    kalman_gain = predicted_Sigma @ H.T @ np.linalg.inv(residual_covariance)\n",
    "    updated_mu = predicted_mu + kalman_gain @ residual_mean\n",
    "    updated_Sigma = predicted_Sigma - kalman_gain @ H @ predicted_Sigma\n",
    "    return updated_mu, updated_Sigma"
   ]
  },
  {
   "cell_type": "code",
   "execution_count": null,
   "metadata": {},
   "outputs": [],
   "source": []
  }
 ],
 "metadata": {
  "kernelspec": {
   "display_name": "Python 3 (ipykernel)",
   "language": "python",
   "name": "python3"
  },
  "language_info": {
   "codemirror_mode": {
    "name": "ipython",
    "version": 3
   },
   "file_extension": ".py",
   "mimetype": "text/x-python",
   "name": "python",
   "nbconvert_exporter": "python",
   "pygments_lexer": "ipython3",
   "version": "3.8.10"
  }
 },
 "nbformat": 4,
 "nbformat_minor": 4
}
