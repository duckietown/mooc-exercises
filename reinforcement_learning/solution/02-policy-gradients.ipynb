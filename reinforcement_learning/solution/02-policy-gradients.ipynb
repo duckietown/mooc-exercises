{
 "cells": [
  {
   "cell_type": "code",
   "execution_count": 107,
   "metadata": {},
   "outputs": [],
   "source": [
    "%matplotlib inline\n",
    "import numpy as np\n",
    "import matplotlib.pyplot as plt\n",
    "import gym\n",
    "from itertools import count\n",
    "import torch\n",
    "import torch.nn as nn\n",
    "import torch.nn.functional as F\n",
    "import torch.optim as optim\n",
    "from torch.distributions import Categorical\n",
    "from collections import deque\n",
    "import random\n",
    "import matplotlib.pyplot as plt\n",
    "from IPython import display"
   ]
  },
  {
   "cell_type": "code",
   "execution_count": 25,
   "metadata": {},
   "outputs": [],
   "source": [
    "if torch.cuda.is_available():\n",
    "    device = torch.device('cuda:0') # so we can do .to(device)\n",
    "else:\n",
    "    device = torch.device('cpu')"
   ]
  },
  {
   "cell_type": "markdown",
   "metadata": {},
   "source": [
    "# REINFORCE"
   ]
  },
  {
   "cell_type": "markdown",
   "metadata": {},
   "source": [
    "REINFORCE is an on-policy (i.e., the model is trained exclusively on data generated using the current policy) policy gradient algorithm. Let our policy $\\pi$ to be parametrized by $\\theta$ (e.g., parameters of a neural network). Our goal is to find the parameter $\\theta$ that maximizes the expected return of trajectory $G(\\tau)$, where $\\tau$ denotes a trajectory obtained from following policy $\\pi_{\\theta}$. So the objective can be written as:\n",
    "\n",
    "$$\n",
    "J (\\theta) = \\mathbb{E}_{\\tau \\sim \\pi_{\\theta}} [G(\\tau)]\n",
    "$$\n",
    "\n",
    "The policy gradient is then (we will skip the derivation of the policy gradient for now, but I highly encourage you to look at it):\n",
    "\n",
    "$$\n",
    "\\nabla_{\\theta} J (\\theta) = \\mathbb{E}_{\\tau \\sim \\pi_{\\theta}} [\\sum_{t=0}^{T} G_{t}(\\tau) \\nabla_{\\theta} \\log \\pi_{\\theta}(a_t|s_t)]\n",
    "$$\n",
    "\n",
    "Once we know $\\nabla_{\\theta} J (\\theta)$, we can update $\\theta$ with gradient ascent. In practice, we approximate the policy gradient via Monte-Carlo sampling by just considering a **single** trajectory, which gives us:\n",
    "\n",
    "$$\n",
    "\\nabla_{\\theta} J (\\theta) \\approx \\sum_{t=0}^{T} G_{t}(\\tau) \\nabla_{\\theta} \\log \\pi_{\\theta}(a_t|s_t)\n",
    "$$\n",
    "\n",
    "The REINFORCE algorithm is shown below:\n",
    "\n",
    "<figure>\n",
    "  <div style=\"text-align:center;\">\n",
    "  <img src=\"assets/05/reinforce_algo.png\", width = 750>\n",
    "  <figcaption>Source: Richard S. Sutton and Andrew G. Barto. Reinforcement Learning: An Introduction.</figcaption>\n",
    "  </div>\n",
    "</figure>\n",
    "\n",
    "For each iteration, we collect an episode trajectory following the current policy. At the end of each episode, we use this trajectory to get the return $G$ and log probability of action at each time step within the episode, which allows us to compute the policy gradient and update the parameters of the policy. After we update our network, we forget about the trajectory we just collected and collect a new one with the latest policy, and the processes are repeated.\n",
    "\n",
    "Let's take a look at the implementation. The code below is adapted from REINFORCE implementation example from PyTorch repo (source: https://github.com/pytorch/examples/blob/master/reinforcement_learning/reinforce.py)."
   ]
  },
  {
   "cell_type": "code",
   "execution_count": 78,
   "metadata": {},
   "outputs": [],
   "source": [
    "# Initialize the environment\n",
    "env = gym.make('CartPole-v1',render_mode=\"rgb_array\")"
   ]
  },
  {
   "cell_type": "code",
   "execution_count": 79,
   "metadata": {},
   "outputs": [],
   "source": [
    "# Create the policy network\n",
    "class PolicyNet(nn.Module):\n",
    "    def __init__(self, state_dim, action_dim):\n",
    "        super(PolicyNet, self).__init__()\n",
    "        self.fc1 = nn.Linear(state_dim, 128)\n",
    "        self.dropout = nn.Dropout(p=0.5)\n",
    "        self.fc2 = nn.Linear(128, action_dim)\n",
    "        self.saved_log_probs = []\n",
    "        self.rewards = []\n",
    "        \n",
    "    def forward(self, inp):\n",
    "        x = self.fc1(inp)\n",
    "        x = self.dropout(x)\n",
    "        x = F.relu(x)\n",
    "        logits = self.fc2(x)\n",
    "        out = F.softmax(logits, dim = 1)\n",
    "        return out"
   ]
  },
  {
   "cell_type": "code",
   "execution_count": 102,
   "metadata": {},
   "outputs": [],
   "source": [
    "class REINFORCEAgent(object):\n",
    "    def __init__(self, state_dim, action_dim):\n",
    "        super(REINFORCEAgent, self).__init__()\n",
    "        self.policy = PolicyNet(state_dim, action_dim).to(device)\n",
    "        self.policy.train()\n",
    "        self.optimizer = optim.Adam(self.policy.parameters(), lr=1e-2)\n",
    "        self.gamma = 0.99\n",
    "        self.log_interval = 10 # print progress per this many episodes\n",
    "    \n",
    "    def clean_memory(self):\n",
    "        del self.policy.rewards[:]\n",
    "        del self.policy.saved_log_probs[:]\n",
    "    \n",
    "    def select_action(self, input_state):\n",
    "        state = torch.from_numpy(input_state).float().unsqueeze(0)\n",
    "        action_probs = self.policy(state)\n",
    "        m = Categorical(action_probs)\n",
    "        action = m.sample()\n",
    "        self.policy.saved_log_probs.append(m.log_prob(action))\n",
    "        return action.item()\n",
    "\n",
    "    def update(self):\n",
    "        G = 0\n",
    "        policy_loss = []\n",
    "        returns = []\n",
    "        for r in self.policy.rewards[::-1]:\n",
    "            G = r + self.gamma * G\n",
    "            returns.insert(0, G)\n",
    "        returns = torch.tensor(returns)\n",
    "        returns = (returns - returns.mean()) / (returns.std() + 1e-7) # normalized returns\n",
    "        for log_prob, G in zip(self.policy.saved_log_probs, returns):\n",
    "            policy_loss.append(-log_prob * G)\n",
    "        self.optimizer.zero_grad()\n",
    "        policy_loss = torch.cat(policy_loss).sum() # a scalar\n",
    "        policy_loss.backward()\n",
    "        self.optimizer.step()\n",
    "        self.clean_memory() # empty self.rewards and self.saved_log_probs (on-policy!)"
   ]
  },
  {
   "cell_type": "markdown",
   "metadata": {},
   "source": [
    "Let's start training the agent."
   ]
  },
  {
   "cell_type": "code",
   "execution_count": 103,
   "metadata": {},
   "outputs": [],
   "source": [
    "state_dim = 4 # (x, x_dot, theta, theta_dot)\n",
    "action_dim = 2 # (0, 1)\n",
    "agent = REINFORCEAgent(state_dim, action_dim)"
   ]
  },
  {
   "cell_type": "code",
   "execution_count": 109,
   "metadata": {},
   "outputs": [
    {
     "name": "stdout",
     "output_type": "stream",
     "text": [
      "Episode 10 \t Running Reward: 61.30 \t Last Episode Reward: 15\n",
      "Episode 20 \t Running Reward: 181.71 \t Last Episode Reward: 276\n",
      "Solved: Episode 22 \t Running Reward: 208.09 \t Last Episode Reward: 407\n"
     ]
    }
   ],
   "source": [
    "running_reward = 10\n",
    "ep_rewards = [] # to store episode reward so we can plot it later\n",
    "for i in range(1, 10000):\n",
    "    state, ep_reward = env.reset(), 0\n",
    "    state = state[0]\n",
    "    for _ in range(1, 10000):\n",
    "        action = agent.select_action(state)\n",
    "        state, reward, terminated, truncated, _ = env.step(action)\n",
    "        agent.policy.rewards.append(reward)\n",
    "        ep_reward += reward\n",
    "        env.render()\n",
    "        if terminated or truncated:\n",
    "            break\n",
    "    ep_rewards.append(ep_reward)\n",
    "    running_reward = 0.05 * ep_reward + (1 - 0.05) * running_reward\n",
    "    agent.update()\n",
    "    \n",
    "    if i % agent.log_interval == 0:\n",
    "        print('Episode %d \\t Running Reward: %.2f \\t Last Episode Reward: %d' % (i, running_reward, ep_reward))\n",
    "    \n",
    "    # Stopping criteria\n",
    "    if running_reward > 200:\n",
    "        print('Solved: Episode %d \\t Running Reward: %.2f \\t Last Episode Reward: %d' \n",
    "              % (i, running_reward, ep_reward))\n",
    "        break"
   ]
  },
  {
   "cell_type": "code",
   "execution_count": 110,
   "metadata": {},
   "outputs": [
    {
     "data": {
      "image/png": "[encoded data removed]",
      "text/plain": [
       "<Figure size 432x288 with 1 Axes>"
      ]
     },
     "metadata": {
      "needs_background": "light"
     },
     "output_type": "display_data"
    }
   ],
   "source": [
    "plt.plot(ep_rewards)\n",
    "plt.xlabel('episode #')\n",
    "plt.ylabel('episode rewards')\n",
    "plt.grid()\n",
    "plt.show()"
   ]
  },
  {
   "cell_type": "code",
   "execution_count": 111,
   "metadata": {},
   "outputs": [
    {
     "name": "stdout",
     "output_type": "stream",
     "text": [
      "198.0\n"
     ]
    },
    {
     "data": {
      "image/png": "[encoded data removed]",
      "text/plain": [
       "<Figure size 432x288 with 1 Axes>"
      ]
     },
     "metadata": {
      "needs_background": "light"
     },
     "output_type": "display_data"
    }
   ],
   "source": [
    "state = env.reset()\n",
    "state = state[0]\n",
    "terminated = False\n",
    "truncated = False\n",
    "total_reward = 0\n",
    "while not (terminated or truncated):\n",
    "    action = agent.select_action(state)\n",
    "    state, reward, terminated, truncated,  _ = env.step(int(action))\n",
    "    total_reward += reward\n",
    "    plt.imshow(env.render())\n",
    "    display.display(plt.gcf())\n",
    "    display.clear_output(wait=True)\n",
    "    \n",
    "    if terminated or truncated:\n",
    "        break\n",
    "print(total_reward)"
   ]
  },
  {
   "cell_type": "code",
   "execution_count": null,
   "metadata": {},
   "outputs": [],
   "source": [
    "env.close()"
   ]
  }
 ],
 "metadata": {
  "kernelspec": {
   "display_name": "Python 3 (ipykernel)",
   "language": "python",
   "name": "python3"
  },
  "language_info": {
   "codemirror_mode": {
    "name": "ipython",
    "version": 3
   },
   "file_extension": ".py",
   "mimetype": "text/x-python",
   "name": "python",
   "nbconvert_exporter": "python",
   "pygments_lexer": "ipython3",
   "version": "3.8.10"
  }
 },
 "nbformat": 4,
 "nbformat_minor": 4
}
