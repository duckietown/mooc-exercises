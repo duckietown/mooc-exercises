{
 "cells": [
  {
   "cell_type": "code",
   "execution_count": 3,
   "metadata": {},
   "outputs": [],
   "source": [
    "%matplotlib inline\n",
    "import numpy as np\n",
    "import matplotlib.pyplot as plt\n",
    "import gym\n",
    "from itertools import count\n",
    "import torch\n",
    "import torch.nn as nn\n",
    "import torch.nn.functional as F\n",
    "import torch.optim as optim\n",
    "from torch.distributions import Categorical\n",
    "from collections import deque\n",
    "import random\n",
    "import matplotlib.pyplot as plt\n",
    "from IPython import display"
   ]
  },
  {
   "cell_type": "code",
   "execution_count": 4,
   "metadata": {},
   "outputs": [],
   "source": [
    "if torch.cuda.is_available():\n",
    "    device = torch.device('cuda:0') # so we can do .to(device)\n",
    "else:\n",
    "    device = torch.device('cpu')"
   ]
  },
  {
   "cell_type": "markdown",
   "metadata": {},
   "source": [
    "# Value Iteration"
   ]
  },
  {
   "cell_type": "markdown",
   "metadata": {},
   "source": [
    "Value iteration is a method to solve for the optimal policy in Markov Decision Process by iteratively updating the value of each state. The algorithm for value iteration is shown below:\n",
    "\n",
    "<figure>\n",
    "  <div style=\"text-align:center;\">\n",
    "  <img src=\"assets/05/value_iteration_algo.png\", width = 450>\n",
    "  <figcaption>Source: Richard S. Sutton and Andrew G. Barto. Reinforcement Learning: An Introduction.</figcaption>\n",
    "  </div>\n",
    "</figure>\n",
    "\n",
    "In this example, we will use the cartpole environment from OpenAI gym. The states of this environment are cartpole position $x$, cartpole velocity $\\dot{x}$, pole angle $\\theta$, and pole angular velocity $\\dot{\\theta}$. \n",
    "\n",
    "<figure>\n",
    "  <div style=\"text-align:center;\">\n",
    "  <img src=\"assets/05/cartpole.png\", width = 300>\n",
    "  </div>\n",
    "</figure>\n",
    "\n",
    "The episode is done when:\n",
    "- $x$ < -env.x_threshold or $x$ > env.x_threshold\n",
    "- $\\theta$ < -env.theta_threshold_radians or $\\theta$ > env.theta_threshold_radians\n",
    "\n",
    "The reward is 0 when the episode is done, otherwise the rewards is +1. In other words, we want the agent to keep the cartpole and pole within the range of desired states as long as possible.\n",
    "\n",
    "We're not actually going to run this until it converges because it will take too much time. However, it is still interesting to see how one can implement value iteration to solve this environment so we can understand and appreciate the challenges."
   ]
  },
  {
   "cell_type": "code",
   "execution_count": 5,
   "metadata": {},
   "outputs": [],
   "source": [
    "env = gym.make('CartPole-v1')"
   ]
  },
  {
   "cell_type": "code",
   "execution_count": 6,
   "metadata": {},
   "outputs": [],
   "source": [
    "class ModifiedCartpoleEnv(gym.envs.classic_control.CartPoleEnv):\n",
    "    def __init__(self, render_mode):\n",
    "        super().__init__(render_mode)\n",
    "    def reset(self, state=None):\n",
    "        \"\"\"\n",
    "        Modify reset function so we can teleport to any particular states if we want to.\n",
    "        \"\"\"\n",
    "        if state is not None:\n",
    "            self.state = state\n",
    "        else:\n",
    "            self.state = self.np_random.uniform(low=-0.05, high=0.05, size=(4,))\n",
    "        self.steps_beyond_done = None\n",
    "        return np.array(self.state)"
   ]
  },
  {
   "cell_type": "code",
   "execution_count": 7,
   "metadata": {},
   "outputs": [],
   "source": [
    "env = ModifiedCartpoleEnv(render_mode=\"rgb_array\")\n",
    "state = env.reset()"
   ]
  },
  {
   "cell_type": "markdown",
   "metadata": {},
   "source": [
    "Value iteration requires us to compute the value of all $s \\in S$. Practically, we need to discretize the state and action space to do this."
   ]
  },
  {
   "cell_type": "code",
   "execution_count": 8,
   "metadata": {},
   "outputs": [],
   "source": [
    "# Define number of possible states and range for each states\n",
    "n_x, x_min, x_max = 5, -env.x_threshold, env.x_threshold\n",
    "n_x_dot, x_dot_min, x_dot_max = 5, -8.0, 8.0 # actually from -inf to +inf\n",
    "n_theta, theta_min, theta_max = 5, -env.theta_threshold_radians, env.theta_threshold_radians\n",
    "n_theta_dot, theta_dot_min, theta_dot_max = 5, -10.0, 10.0 # actually from -inf to +inf "
   ]
  },
  {
   "cell_type": "code",
   "execution_count": 9,
   "metadata": {},
   "outputs": [],
   "source": [
    "# States\n",
    "x_range = np.linspace(x_min, x_max, num = n_x)\n",
    "x_dot_range = np.linspace(x_dot_min, x_dot_max, num = n_x_dot)\n",
    "theta_range = np.linspace(theta_min, theta_max, num = n_theta)\n",
    "theta_dot_range = np.linspace(theta_dot_min, theta_dot_max, num = n_theta_dot)\n",
    "\n",
    "# Actions\n",
    "u_range = (0,1)\n",
    "\n",
    "# Create meshgrid\n",
    "x_v, x_dot_v, theta_v, theta_dot_v = np.meshgrid(x_range, x_dot_range, theta_range, theta_dot_range)"
   ]
  },
  {
   "cell_type": "code",
   "execution_count": 10,
   "metadata": {},
   "outputs": [],
   "source": [
    "# Create list of list with all possible states\n",
    "states = []\n",
    "for i in range(n_x):\n",
    "    for j in range(n_x_dot):\n",
    "        for k in range(n_theta_dot):\n",
    "            for l in range(n_theta):\n",
    "                s = np.array([x_v[i,j,k,l], x_dot_v[i,j,k,l], theta_v[i,j,k,l], theta_dot_v[i,j,k,l]])\n",
    "                states.append(s)"
   ]
  },
  {
   "cell_type": "code",
   "execution_count": 11,
   "metadata": {},
   "outputs": [],
   "source": [
    "def discretize_state(state):\n",
    "    \"\"\"\n",
    "    Function to discretize state into the range we specified above.\n",
    "    NOTE: (x_range, x_dot_range, theta_range, theta_dot_range) are defined globally in this notebook.\n",
    "    \"\"\"\n",
    "    \n",
    "    x = state[0]\n",
    "    x_dot = state[1]\n",
    "    theta = state[2]\n",
    "    theta_dot = state[3]\n",
    "    discretized_x = x_range[np.argmin(abs(x - x_range))] \n",
    "    discretized_x_dot = x_dot_range[np.argmin(abs(x_dot - x_dot_range))]\n",
    "    discretized_theta = theta_range[np.argmin(abs(theta - theta_range))]\n",
    "    discretized_theta_dot = theta_dot_range[np.argmin(abs(theta_dot - theta_dot_range))]\n",
    "    discretized_state = np.array([discretized_x, \n",
    "                                  discretized_x_dot, \n",
    "                                  discretized_theta, \n",
    "                                  discretized_theta_dot])\n",
    "    return discretized_state\n",
    "\n",
    "def get_state_index(states, discretized_state):\n",
    "    \"\"\"\n",
    "    Function to map the discretized_state onto its corresponding index in states.\n",
    "    \"\"\"\n",
    "    \n",
    "    diff = states - discretized_state\n",
    "    flags = np.any(diff, axis=1)\n",
    "    idx = np.where(flags==False)[0][0]\n",
    "    return idx"
   ]
  },
  {
   "cell_type": "code",
   "execution_count": 12,
   "metadata": {},
   "outputs": [
    {
     "name": "stderr",
     "output_type": "stream",
     "text": [
      "/usr/local/lib/python3.8/dist-packages/gym/envs/classic_control/cartpole.py:177: UserWarning: \u001b[33mWARN: You are calling 'step()' even though this environment has already returned terminated = True. You should always call 'reset()' once you receive 'terminated = True' -- any further steps are undefined behavior.\u001b[0m\n",
      "  logger.warn(\n"
     ]
    },
    {
     "name": "stdout",
     "output_type": "stream",
     "text": [
      "num_iter:  10  --- delta:  0.9135172474836413\n",
      "num_iter:  20  --- delta:  0.826168623835585\n",
      "num_iter:  30  --- delta:  0.7471720943315958\n",
      "num_iter:  40  --- delta:  0.6757290490602799\n",
      "num_iter:  50  --- delta:  0.6111172395328666\n",
      "num_iter:  60  --- delta:  0.5526834771623825\n",
      "num_iter:  70  --- delta:  0.4998370298991972\n",
      "num_iter:  80  --- delta:  0.4520436502664751\n",
      "num_iter:  90  --- delta:  0.4088201744225515\n",
      "num_iter:  100  --- delta:  0.36972963764972633\n",
      "num_iter:  110  --- delta:  0.3343768568899179\n",
      "num_iter:  120  --- delta:  0.3024044356690183\n",
      "num_iter:  130  --- delta:  0.2734891510222184\n",
      "num_iter:  140  --- delta:  0.24733868589386532\n",
      "num_iter:  150  --- delta:  0.22368867397864278\n",
      "num_iter:  160  --- delta:  0.20230002712877138\n",
      "num_iter:  170  --- delta:  0.18295651830905513\n",
      "num_iter:  180  --- delta:  0.1654625956647351\n",
      "num_iter:  190  --- delta:  0.14964140560361727\n",
      "num_iter:  200  --- delta:  0.13533300490702516\n",
      "num_iter:  210  --- delta:  0.12239274379500387\n",
      "num_iter:  220  --- delta:  0.11068980359934244\n",
      "num_iter:  230  --- delta:  0.10010587426148732\n",
      "num_iter:  240  --- delta:  0.09053395828517807\n",
      "num_iter:  250  --- delta:  0.08187728905271285\n",
      "num_iter:  260  --- delta:  0.07404835256959075\n",
      "num_iter:  270  --- delta:  0.06696800274787051\n",
      "num_iter:  280  --- delta:  0.060564661284303156\n",
      "num_iter:  290  --- delta:  0.0547735940445051\n",
      "num_iter:  300  --- delta:  0.04953625663766559\n",
      "num_iter:  310  --- delta:  0.04479970256613797\n",
      "num_iter:  320  --- delta:  0.040516047966534074\n",
      "num_iter:  330  --- delta:  0.036641987531140785\n",
      "num_iter:  340  --- delta:  0.033138356715852524\n",
      "num_iter:  350  --- delta:  0.02996973580906115\n",
      "num_iter:  360  --- delta:  0.027104091858475954\n",
      "num_iter:  370  --- delta:  0.02451245483619857\n",
      "num_iter:  380  --- delta:  0.022168624768312384\n",
      "num_iter:  390  --- delta:  0.020048906868055383\n",
      "num_iter:  400  --- delta:  0.018131871994995663\n",
      "num_iter:  410  --- delta:  0.016398140018623053\n",
      "num_iter:  420  --- delta:  0.01483018389633628\n",
      "num_iter:  430  --- delta:  0.013412152484931994\n",
      "num_iter:  440  --- delta:  0.01212971029465848\n",
      "num_iter:  450  --- delta:  0.010969892565526607\n",
      "num_iter:  460  --- delta:  0.009920974201037325\n",
      "Value iteration converged after 460 iterations\n"
     ]
    }
   ],
   "source": [
    "convergence_threshold = 0.01\n",
    "delta = 100000\n",
    "gamma = 0.99\n",
    "deltas = []\n",
    "V = np.zeros(n_x * n_x_dot * n_theta * n_theta_dot) # initialize V(s) = 0 for all states\n",
    "\n",
    "num_iter = 0\n",
    "while delta > convergence_threshold:\n",
    "    delta = 0\n",
    "    for i in range(len(states)): # for each possible state\n",
    "        state = states[i]\n",
    "        v = V[i] # value of current state\n",
    "        V_max = -999999999\n",
    "        for u in u_range: # evaluate all possible actions (due to V(s) <- max_a ...)\n",
    "            env.reset(state = state) # make sure we are at state = state\n",
    "            next_state, r, terminated, truncated, _  = env.step(u) # apply u for one step\n",
    "            discretized_next_state = discretize_state(next_state)\n",
    "            next_state_index = get_state_index(states, discretized_next_state)\n",
    "            value = r + gamma * V[next_state_index]\n",
    "            if value > V_max:\n",
    "                V_max = value\n",
    "        V[i] = V_max # update value of current state\n",
    "        delta = max(delta, abs(v - V_max)) # update delta for convergence check\n",
    "    deltas.append(delta)\n",
    "    num_iter+=1\n",
    "    if num_iter % 10 == 0:\n",
    "        print('num_iter: ', num_iter, ' --- delta: ', delta)\n",
    "print('Value iteration converged after %d iterations' % num_iter)"
   ]
  },
  {
   "cell_type": "code",
   "execution_count": 13,
   "metadata": {},
   "outputs": [
    {
     "data": {
      "image/png": "[encoded data removed]",
      "text/plain": [
       "<Figure size 432x288 with 1 Axes>"
      ]
     },
     "metadata": {
      "needs_background": "light"
     },
     "output_type": "display_data"
    }
   ],
   "source": [
    "plt.plot(deltas)\n",
    "plt.show()"
   ]
  },
  {
   "cell_type": "markdown",
   "metadata": {},
   "source": [
    "Next, we need to determine how we choose an action based on $V(s)$. For example, we can do this greedily by doing:\n",
    "\n",
    "$$\n",
    "\\pi(s) = \\arg\\max_a \\sum_{s',r} p(s',r|s,a)[r + \\gamma V(s')] \n",
    "$$\n",
    "\n",
    "So, let's create another lookup table for the policy."
   ]
  },
  {
   "cell_type": "code",
   "execution_count": 14,
   "metadata": {},
   "outputs": [],
   "source": [
    "def get_best_policy(V):\n",
    "    \"\"\"\n",
    "    Function to return the optimal policy from a given V.\n",
    "    NOTE: (states, n_x, n_x_dot, n_theta_dot, n_theta, gamma) are defined globally in this notebook.\n",
    "    \"\"\"\n",
    "    policy = np.zeros(n_x * n_x_dot * n_theta_dot * n_theta)\n",
    "    for i in range(len(V)):\n",
    "        state = states[i]\n",
    "        V_max = -999999999\n",
    "        u_max = -999999999\n",
    "        for u in u_range: # evaluate all action\n",
    "            env.reset(state = state) # make sure we are at state = state\n",
    "            next_state, r, terminated, truncated, _  = env.step(u) # apply u for one step\n",
    "            discretized_next_state = discretize_state(next_state)\n",
    "            next_state_index = get_state_index(states, discretized_next_state)\n",
    "            value = r + gamma * V[next_state_index]\n",
    "            if value > V_max:\n",
    "                V_max = value\n",
    "                u_max = u\n",
    "        policy[i] = u_max\n",
    "    return policy"
   ]
  },
  {
   "cell_type": "code",
   "execution_count": 15,
   "metadata": {},
   "outputs": [],
   "source": [
    "policy = get_best_policy(V)"
   ]
  },
  {
   "cell_type": "markdown",
   "metadata": {},
   "source": [
    "Now, let's see the performance of the agent."
   ]
  },
  {
   "cell_type": "code",
   "execution_count": 16,
   "metadata": {},
   "outputs": [],
   "source": [
    "def get_action(state, policy):\n",
    "    \"\"\"\n",
    "    Function to get what action to take according to the policy.\n",
    "    NOTE: (states) is defined globally in this notebook.\n",
    "    \"\"\"\n",
    "    discretized_state = discretize_state(state)\n",
    "    state_index = get_state_index(states, discretized_state)\n",
    "    u = policy[state_index]\n",
    "    return u"
   ]
  },
  {
   "cell_type": "code",
   "execution_count": 19,
   "metadata": {},
   "outputs": [
    {
     "name": "stdout",
     "output_type": "stream",
     "text": [
      "9.0\n"
     ]
    },
    {
     "data": {
      "image/png": "[encoded data removed]",
      "text/plain": [
       "<Figure size 432x288 with 1 Axes>"
      ]
     },
     "metadata": {
      "needs_background": "light"
     },
     "output_type": "display_data"
    }
   ],
   "source": [
    "state = env.reset()\n",
    "terminated = False\n",
    "truncated = False\n",
    "total_reward = 0\n",
    "while not (terminated or truncated):\n",
    "    action = get_action(state, policy)\n",
    "    state, reward, terminated, truncated,  _ = env.step(int(action))\n",
    "    total_reward += reward\n",
    "    plt.imshow(env.render())\n",
    "    display.display(plt.gcf())\n",
    "    display.clear_output(wait=True)\n",
    "    \n",
    "    if terminated or truncated:\n",
    "        break\n",
    "print(total_reward)"
   ]
  },
  {
   "cell_type": "markdown",
   "metadata": {},
   "source": [
    "From this example, we can identify several challenges:\n",
    "1. If discretization is not fine enough, then applying an action may not change the state at all.\n",
    "2. If discretization is too fine, then it will take a long time for the algorithm to converge.\n",
    "3. As the state and action spaces get bigger, the computation needed to do value iteration increases drastically.\n",
    "\n",
    "Now, let's take a look at REINFORCE."
   ]
  },
  {
   "cell_type": "code",
   "execution_count": null,
   "metadata": {},
   "outputs": [],
   "source": [
    "env.close()"
   ]
  }
 ],
 "metadata": {
  "kernelspec": {
   "display_name": "Python 3 (ipykernel)",
   "language": "python",
   "name": "python3"
  },
  "language_info": {
   "codemirror_mode": {
    "name": "ipython",
    "version": 3
   },
   "file_extension": ".py",
   "mimetype": "text/x-python",
   "name": "python",
   "nbconvert_exporter": "python",
   "pygments_lexer": "ipython3",
   "version": "3.8.10"
  }
 },
 "nbformat": 4,
 "nbformat_minor": 4
}
