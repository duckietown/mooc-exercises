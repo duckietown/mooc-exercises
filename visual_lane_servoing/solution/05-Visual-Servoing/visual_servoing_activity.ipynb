{
 "cells": [
  {
   "cell_type": "markdown",
   "id": "cb39c745-56f9-495f-a3da-646610faddb5",
   "metadata": {},
   "source": [
    "<p style=\"text-align: right\">\n",
    "  <img src=\"../images/dtlogo.png\" alt=\"Logo\" width=\"200\">\n",
    "</p>"
   ]
  },
  {
   "cell_type": "markdown",
   "id": "caace6d9-9d3c-4719-bace-bbc8d918f5f2",
   "metadata": {},
   "source": [
    "# 💻🚙 05 - Visual control"
   ]
  },
  {
   "cell_type": "markdown",
   "id": "6610d597-5e7a-4a4a-8fd1-0686debfc5ef",
   "metadata": {},
   "source": [
    "<figure>\n",
    "  <div style=\"text-align:center;\">\n",
    "  <img src=\"../images/visual_control/pic1_rect.png\", width=400px>\n",
    "  <p>The view from a Duckiebot when centered in its lane.</p>\n",
    "  </div>\n",
    "</figure>\n",
    "\n",
    "Now, we use the image processing tools that we have explored to design a policy for lane-following. Consider the above image taken from the Duckiebot's camera when the Duckiebot was centered in its lane. Our goal is to design a control policy that uses only images streamed from the Duckiebot's camera to keep it in the lane as it drives forward at a fixed velocity. \n",
    "\n",
    "Rather than design a controller that reasons over the raw image, we will process the image to enhance aspects of the image that are helpful for lane-following. In particular, the dashed-yellow and solid-white lane markings provide valuable cues that we can use to guide the robot to stay in its lane. \n",
    "\n",
    "Assume that the Duckiebot starts out in the center of its lane, facing in the direction of travel. Assume also that the Duckiebot is traveling forward at a nominal speed. We can imagine using the location of the dashed-yellow and solid-white lane markings in the image to vary the rotational velocities of the left and right wheels in order to stay in the lane. For example, if the dashed-yellow lane markings appear in the left- and right-halves of the image, we might command a negative rotational velocity (i.e., counter-clockwise) as a correction. \n",
    "\n",
    "Of course, this requires that we can detect the dashed-yellow and solid-white lane markings and estimate their orientations. Thus, we want to apply a filter that makes the lane markings \"pop out\" in the image, while supressing the other distracting content of the image. Lane markings are brightly colored against a dark background (the road). \n",
    "\n",
    "We can identify the location of lane markings in the image by applying finite-difference filters $h_x$ and $h_y$ (e.g., using the Sobel operator) to estimate the horizontal and vertical intensity gradients\n",
    "\n",
    "$$ \\nabla I[u,v] = \n",
    "\\begin{bmatrix}\n",
    "G_x[u,v]\\\\\n",
    "G_y[u,v]\n",
    "\\end{bmatrix}\n",
    "$$\n",
    "\n",
    "where\n",
    "\n",
    "$$ \n",
    "\\begin{align}\n",
    "G_x = h_x * I\\\\\n",
    "G_y = h_y * I\n",
    "\\end{align}\n",
    "$$\n",
    "\n",
    "We can then look for regions of the image where the magnitude of the intensity gradient is large as a measure of the strength of each edge.\n",
    "\n",
    "$$ \n",
    "\\lvert \\nabla I[u,v] \\rvert = \\sqrt{\\left(G_x[u,v]\\right)^2 + \\left(G_y[u,v]\\right)^2}\n",
    "$$\n",
    "\n",
    "Assuming that these edges correspond to the lane boundaries, the direction of the gradients can then be used to estimate the desired orientations.\n",
    "\n",
    "$$\n",
    "\\theta[u,v] = \\textrm{atan2}\\left(G_y[u,v], G_x[u,v]\\right)\n",
    "$$\n",
    "\n",
    "In this exercise, we will develop this idea by investigating different ways of processing the images to extract information about the robot's pose relative to the lane. We will use these results to implement a reactive image-space controller that we will validate on a simulated and/or real Duckiebot."
   ]
  },
  {
   "cell_type": "code",
   "execution_count": null,
   "id": "2a416f62-ece0-4e48-ba0c-26a805d5f739",
   "metadata": {},
   "outputs": [],
   "source": [
    "## Run this cell to import relevant modules\n",
    "%load_ext autoreload\n",
    "%autoreload 2\n",
    "%matplotlib inline\n",
    "%pylab inline\n",
    "\n",
    "from matplotlib import pyplot as plt\n",
    "import numpy as np\n",
    "import cv2"
   ]
  },
  {
   "cell_type": "markdown",
   "id": "56fa0b39-de38-4322-b4c5-adde34e1146e",
   "metadata": {},
   "source": [
    "Let's load the image as well as the homography for the corresponding camera into Python."
   ]
  },
  {
   "cell_type": "code",
   "execution_count": null,
   "id": "20e92632-c49b-4f96-be4e-e0a28e50a0e3",
   "metadata": {},
   "outputs": [],
   "source": [
    "# Load in the image and generate hsv and grayscale versions\n",
    "imgbgr = cv2.imread('../images/visual_control/pic1_rect.png')\n",
    "\n",
    "# OpenCV uses BGR by default, whereas matplotlib uses RGB, so we generate an RGB version for the sake of visualization\n",
    "imgrgb = cv2.cvtColor(imgbgr, cv2.COLOR_BGR2RGB)\n",
    "\n",
    "# Convert the image to HSV for any color-based filtering\n",
    "imghsv = cv2.cvtColor(imgbgr, cv2.COLOR_BGR2HSV)\n",
    "\n",
    "# Most of our operations will be performed on the grayscale version\n",
    "img = cv2.cvtColor(imgbgr, cv2.COLOR_BGR2GRAY)\n",
    "\n",
    "# The image-to-ground homography associated with this image\n",
    "H = np.array([-4.137917960301845e-05, -0.00011445854191468058, -0.1595567007347241, \n",
    "              0.0008382870319844166, -4.141689222457687e-05, -0.2518201638170328, \n",
    "              -0.00023561657746150284, -0.005370140574116084, 0.9999999999999999])\n",
    "\n",
    "H = np.reshape(H,(3, 3))\n",
    "Hinv = np.linalg.inv(H)\n",
    "\n",
    "print(Hinv)"
   ]
  },
  {
   "cell_type": "markdown",
   "id": "67ece054-ee3c-4fd7-82b5-e561d4e47988",
   "metadata": {},
   "source": [
    "## Finding the Horizon\n",
    "\n",
    "In Duckietown, the ground is planar and in other self-driving and robotics domains, it is often assumed that the ground is locally planar. We can exploit this as we search for lane markings by not searching above the horizon. In the world frame relative to which we estimated the homography (i.e., a reference frame with the origin centered between the drive wheels with the positive $x$-axis pointing forward and the positive $y$-axis to the left), the horizon corresponds to large $x$-coordinates. In Duckietown, we are only interested in the road a few meters in front of the Duckiebot.\n",
    "\n",
    "**Note**: You do not need to include this in the implementation of the functions that will be run in simulation and on the physical Duckiebot. For this activity, the robot will automatically crop out the horizon."
   ]
  },
  {
   "cell_type": "code",
   "execution_count": null,
   "id": "1228a7cb-28c9-4fbc-995f-61ece2619d27",
   "metadata": {},
   "outputs": [],
   "source": [
    "# TODO: Use the homography (technically Hinv) to mask out the horizon\n",
    "# When generating masks that will be used with OpenCV try and\n",
    "# instantiate them with dtype=np.uint8\n",
    "mask_ground = np.ones(img.shape, dtype=np.uint8) # TODO: CHANGE ME\n",
    "\n",
    "fig = plt.figure(figsize = (30,20))\n",
    "ax1 = fig.add_subplot(1,4,1)\n",
    "ax1.imshow(img*mask_ground,cmap = 'gray')\n",
    "ax1.set_title('Horizon Mask'), ax1.set_xticks([]), ax1.set_yticks([]);"
   ]
  },
  {
   "cell_type": "markdown",
   "id": "0cbfc414-9432-43dd-a600-e879381ed299",
   "metadata": {},
   "source": [
    "## Detecting Lane Markings using Sobel Edge Detection\n",
    "\n",
    "Now, let's apply the Sobel operator to the image to identify image gradients."
   ]
  },
  {
   "cell_type": "code",
   "execution_count": null,
   "id": "9d9d7400-efea-4794-84af-dc059a0bb8e0",
   "metadata": {
    "tags": []
   },
   "outputs": [],
   "source": [
    "# Convolve the image with the Sobel operator (filter) to compute the numerical derivatives in the x and y directions\n",
    "sobelx = cv2.Sobel(img,cv2.CV_64F,1,0)\n",
    "sobely = cv2.Sobel(img,cv2.CV_64F,0,1)\n",
    "\n",
    "# Compute the magnitude of the gradients\n",
    "Gmag = np.sqrt(sobelx*sobelx + sobely*sobely)\n",
    "\n",
    "# Compute the orientation of the gradients\n",
    "Gdir = cv2.phase(np.array(sobelx, np.float32), np.array(sobely, dtype=np.float32), angleInDegrees=True)\n",
    "\n",
    "fig = plt.figure(figsize = (30,20))\n",
    "ax1 = fig.add_subplot(1,4,1)\n",
    "ax1.imshow(img,cmap = 'gray')\n",
    "ax1.set_title('Original'), ax1.set_xticks([]), ax1.set_yticks([])\n",
    "ax2 = fig.add_subplot(1,4,2)\n",
    "ax2.imshow(sobelx,cmap = 'gray')\n",
    "ax2.set_title('Sobel X'), ax2.set_xticks([]), ax2.set_yticks([])\n",
    "ax3 = fig.add_subplot(1,4,3)\n",
    "ax3.imshow(sobely,cmap = 'gray')\n",
    "ax3.set_title('Sobel Y'), ax3.set_xticks([]), ax3.set_yticks([]);\n",
    "ax4 = fig.add_subplot(1,4,4)\n",
    "ax4.imshow(np.uint8(Gmag))\n",
    "ax4.set_title('Gradient Magnitude'), ax4.set_xticks([]), ax4.set_yticks([]);"
   ]
  },
  {
   "cell_type": "markdown",
   "id": "85b2134d-aec9-49e1-b3a9-475bfbf8417d",
   "metadata": {},
   "source": [
    "Filtering the image has enhanced the location of the lane markings, but has also emphasized other locations where there are rapid changes in intensity. These include the duckies, buildings in Duckietown, the road surface, and elements in the background (e.g., the lights in the upper-right corner of the image). Note that we are using a non-grayscale colormap for the gradient magnitudes in order to more clearly convey locations that are enhanced by the Sobel operator.\n",
    "\n",
    "We can reduce the occurrence of some of these features by first blurring the filter using a Gaussian kernel."
   ]
  },
  {
   "cell_type": "markdown",
   "id": "32e7e192-5907-4d61-9ec0-2245bef51005",
   "metadata": {},
   "source": [
    "## Gaussian Blurring\n",
    "\n",
    "The Sobel operator picks up on noise in the image as well as texture in the scene that we don't particularly care about. We can blur the image with a Gaussian kernel to reduce these spurious detections.\n",
    "\n",
    "### Example: Gaussian Blurring\n",
    "\n",
    "Using your experience from the previous exercise, identify a setting for the standard deviation of the Gaussian kernel that removes noise and local texture (e.g., that of the road surface), without sacrificing too much valid content (namely, the edges associated with lane markings)"
   ]
  },
  {
   "cell_type": "code",
   "execution_count": null,
   "id": "6949020e-777c-414a-95da-3c3cc04bef0c",
   "metadata": {},
   "outputs": [],
   "source": [
    "# TODO: Identify a setting for the standard deviation that removes noise while not eliminating too much valid content.\n",
    "sigma = 1 # CHANGE ME\n",
    "\n",
    "# Smooth the image using a Gaussian kernel\n",
    "img_gaussian_filter = cv2.GaussianBlur(img,(0,0), sigma)\n",
    "\n",
    "# Visualize the filtered image alongside the original image.\n",
    "fig = plt.figure(figsize = (20,20))\n",
    "ax1 = fig.add_subplot(1,2,1)\n",
    "ax1.imshow(img,cmap = 'gray')\n",
    "ax1.set_title('Original'), ax1.set_xticks([]), ax1.set_yticks([])\n",
    "ax2 = fig.add_subplot(1,2,2)\n",
    "ax2.imshow(img_gaussian_filter,cmap = 'gray')\n",
    "ax2.set_title('Gaussian Filter (Sigma = ' + str(sigma) +')'), ax2.set_xticks([]), ax2.set_yticks([]);"
   ]
  },
  {
   "cell_type": "markdown",
   "id": "33074c85-b694-4bc8-b0b1-7c7dbd421115",
   "metadata": {},
   "source": [
    "Now, let's look at the gradients of the blurred image. For this exercise, experiment with different settings for the standard deviation above and see how they affect the image gradients. In particular, compare the gradients for two extremes of the standard deviation (e.g., $\\sigma=1$ and $\\sigma=10$)."
   ]
  },
  {
   "cell_type": "code",
   "execution_count": null,
   "id": "7c07f9b5-1412-465a-8941-1169dd2dbaf3",
   "metadata": {},
   "outputs": [],
   "source": [
    "# Convolve the image with the Sobel operator (filter) to compute the numerical derivatives in the x and y directions\n",
    "sobelx = cv2.Sobel(img_gaussian_filter,cv2.CV_64F,1,0)\n",
    "sobely = cv2.Sobel(img_gaussian_filter,cv2.CV_64F,0,1)\n",
    "\n",
    "# Compute the magnitude of the gradients\n",
    "Gmag = np.sqrt(sobelx*sobelx + sobely*sobely)\n",
    "\n",
    "# Compute the orientation of the gradients\n",
    "Gdir = cv2.phase(np.array(sobelx, np.float32), np.array(sobely, dtype=np.float32), angleInDegrees=True)\n",
    "\n",
    "fig = plt.figure(figsize = (30,20))\n",
    "ax1 = fig.add_subplot(1,4,1)\n",
    "ax1.imshow(img_gaussian_filter,cmap = 'gray')\n",
    "ax1.set_title('Gaussian Blur'), ax1.set_xticks([]), ax1.set_yticks([])\n",
    "ax2 = fig.add_subplot(1,4,2)\n",
    "ax2.imshow(sobelx,cmap = 'gray')\n",
    "ax2.set_title('Sobel X'), ax2.set_xticks([]), ax2.set_yticks([])\n",
    "ax3 = fig.add_subplot(1,4,3)\n",
    "ax3.imshow(sobely,cmap = 'gray')\n",
    "ax3.set_title('Sobel Y'), ax3.set_xticks([]), ax3.set_yticks([]);\n",
    "ax4 = fig.add_subplot(1,4,4)\n",
    "ax4.imshow(np.uint8(Gmag))\n",
    "ax4.set_title('Gradient Magnitude'), ax4.set_xticks([]), ax4.set_yticks([]);"
   ]
  },
  {
   "cell_type": "markdown",
   "id": "473d2760-e52c-43cf-99c0-59b05cc42d5e",
   "metadata": {},
   "source": [
    "## A Varient of Non-maximal Supression\n",
    "\n",
    "With a suitable choice for the standard deviation, we have smoothed out some of the noise and texture in the image (e.g., the road), reducing the number of candidate edges while preserving most of the edges that corresopnd to lane markings.\n",
    "\n",
    "Under the assumption that the edges associated with lane markings are stronger than most of the edges in the image (in terms of the magnitude of the gradients), we can further eliminate distractors by only keeping edges whose gradient magnitude is greater than a threshold. \n",
    "\n",
    "### Example: A form of non-maximal supression\n",
    "\n",
    "In this exercise, we will take a look at the histogram over gradient magnitudes to better understand the distribution of gradient magnitudes. Based on the histogram, we can choose a magnitude threshold that we will use to filter out weaker edges."
   ]
  },
  {
   "cell_type": "code",
   "execution_count": null,
   "id": "56f913d3-b76e-47dc-b7d3-57b7cc497a91",
   "metadata": {},
   "outputs": [],
   "source": [
    "# Visualize the histogram over gradient magnitudes\n",
    "fig = plt.figure(figsize = (5,5))\n",
    "ax1 = fig.add_subplot(1,1,1)\n",
    "ax1.hist((Gmag*mask_ground).flatten(), bins=50)\n",
    "ax1.set_title('Gradient Histogram');"
   ]
  },
  {
   "cell_type": "code",
   "execution_count": null,
   "id": "ad0625fa-9461-4dcd-8d7a-15c11a4d282c",
   "metadata": {},
   "outputs": [],
   "source": [
    "# TODO: Use the histogram above to choose the minimum threshold on the gradient magnitude. \n",
    "#       Edges whos gradient magnitude is below this threshold will be filtered out.\n",
    "threshold = np.random.rand(1,1) # CHANGE ME\n",
    "\n",
    "mask_mag = (Gmag > threshold)\n",
    "\n",
    "fig = plt.figure(figsize = (20,10))\n",
    "ax1 = fig.add_subplot(1,2,1)\n",
    "ax1.imshow(Gmag, cmap = 'gray')\n",
    "ax1.set_title('Gradient Magnitude'), ax1.set_xticks([]), ax1.set_yticks([])\n",
    "ax2 = fig.add_subplot(1,2,2)\n",
    "ax2.imshow(mask_mag*Gmag,cmap = 'gray')\n",
    "ax2.set_title('Gradient Magnitude (Thresholded)'), ax2.set_xticks([]), ax2.set_yticks([]);"
   ]
  },
  {
   "cell_type": "markdown",
   "id": "3ad3c822-875c-4200-a3c8-6dccccd23749",
   "metadata": {},
   "source": [
    "## Color-based Masking\n",
    "\n",
    "Having identified a candidate set of edges, we can now try to design a set of masks that isolate the edges associated with the dashed-yellow and solid-white lane markings.\n",
    "\n",
    "Perhaps the most obvious thing to do is to create masks that filter out pixels whose color differs from that of the yellow and white lines. \n",
    "\n",
    "### Example: Color-based Masking\n",
    "\n",
    "We can select upper- and lower-bounds on the HSV values for the two lines. One option is to use [this online color picker](https://pinetools.com/image-color-picker), which allows us to get the HSV values for particular pixels. \n",
    "\n",
    "**Note**: When we go to use these bounds, remember that OpenCV uses uses the convention that $\\textrm{H} \\in [0, 179]$, $\\textrm{S} \\in [0, 255]$, and $\\textrm{V} \\in [0, 255]$, while other tools may use different ranges (e.g., Gimp uses $\\textrm{H} \\in [0, 360]$, $\\textrm{S} \\in [0, 100]$, and $\\textrm{V} \\in [0, 100])$.\n",
    "\n",
    "**Note**: While the HSV color space provides a better representation (e.g., compared to RGB) for color-based detection, the appearance of the yellow and white lane markings will change due to variations in illumination, shading, etc. for In order to improve the generalizability of these bounds, you are encouraged to also consider the `../images/visual_control/pic3_rect.png` image and define bounds that are appropriate for both."
   ]
  },
  {
   "cell_type": "code",
   "execution_count": null,
   "id": "f128e9bf-d4ee-49e3-ac92-e314649b5cf4",
   "metadata": {},
   "outputs": [],
   "source": [
    "# Using the above tool, we can identify the bounds as follows\n",
    "# TODO: Identify the lower and upper HSV bounds for the white and yellow lane markings\n",
    "#       These values represent the maximum range, so they don't filter out anything\n",
    "white_lower_hsv = np.array([0, 0, 0])         # CHANGE ME\n",
    "white_upper_hsv = np.array([179, 255, 255])   # CHANGE ME\n",
    "yellow_lower_hsv = np.array([0, 0, 0])        # CHANGE ME\n",
    "yellow_upper_hsv = np.array([179, 255, 255])  # CHANGE ME\n",
    "\n",
    "mask_white = cv2.inRange(imghsv, white_lower_hsv, white_upper_hsv)\n",
    "mask_yellow = cv2.inRange(imghsv, yellow_lower_hsv, yellow_upper_hsv)\n",
    "\n",
    "fig = plt.figure(figsize = (20,10))\n",
    "ax1 = fig.add_subplot(1,3,1)\n",
    "ax1.imshow(imgrgb)\n",
    "ax1.set_title('Original'), ax1.set_xticks([]), ax1.set_yticks([])\n",
    "ax2 = fig.add_subplot(1,3,2)\n",
    "ax2.imshow(imgrgb)\n",
    "ax2.imshow(mask_white, cmap='jet', alpha=0.5)\n",
    "ax2.set_title('Filtered by Color (White)'), ax2.set_xticks([]), ax2.set_yticks([]);\n",
    "ax3 = fig.add_subplot(1,3,3)\n",
    "ax3.imshow(imgrgb)\n",
    "ax3.imshow(mask_yellow, cmap='jet', alpha=0.5)\n",
    "ax3.set_title('Filtered by Color (Yellow)'), ax3.set_xticks([]), ax3.set_yticks([]);"
   ]
  },
  {
   "cell_type": "markdown",
   "id": "85ff2123-9437-4f74-a35f-cebac2b52a03",
   "metadata": {},
   "source": [
    "## Edge-based Masking\n",
    "\n",
    "Now, we will explore possible ways to mask out unwanted edges based upon their orientation in the image.\n",
    "\n",
    "Assuming that the Duckiebot hasn't deviated too much from its lane, most of the dashed-yellow line should lie in the left-half of the image, while most of the solid-white line should lie in the right-half of the image. We can use this to reason separately over dashed-yellow and solid-white lane markings.\n",
    "\n",
    "**Note**: While this masking may seem reasonable when the Duckiebot is oriented close to the direction of travel, it may not be what we want when the Duckiebot's orientation is off. In these cases, we would expect some of the dashed-yellow lane markings to be in the right-half of the image or some of the solid-white lane markings to be in the left-half of the image. These would be valuable cues to use. Thus, as you experiment with the included images as well as in simulation and on your physical Duckiebot, you may want to try disabling these masks.\n",
    "\n",
    "### Example: Edge-based Masking"
   ]
  },
  {
   "cell_type": "code",
   "execution_count": null,
   "id": "6003f3e9-344b-499a-9983-ab56c3b32e70",
   "metadata": {},
   "outputs": [],
   "source": [
    "# Let's create masks for the left- and right-halves of the image\n",
    "width = img.shape[1]\n",
    "mask_left = np.ones(sobelx.shape)\n",
    "mask_left[:,int(np.floor(width/2)):width + 1] = 0\n",
    "mask_right = np.ones(sobelx.shape)\n",
    "mask_right[:,0:int(np.floor(width/2))] = 0"
   ]
  },
  {
   "cell_type": "markdown",
   "id": "f5a5e247-7dac-4562-9ad3-f7a41b810803",
   "metadata": {},
   "source": [
    "The inner edge of the dashed-yellow line corresponds to a negative gradient in the $x$- and $y$-directions, while the inner-edge of the solid-white line corresponds to a positive gradient in the $x$-direction and negative gradient in the $y$-direction. We can use this to further mask out unwanted edges."
   ]
  },
  {
   "cell_type": "code",
   "execution_count": null,
   "id": "97940c42-45e6-4344-9507-5e64fc1a3862",
   "metadata": {},
   "outputs": [],
   "source": [
    "# In the left-half image, we are interested in the right-half of the dashed yellow line, which corresponds to negative x- and y-derivatives\n",
    "# In the right-half image, we are interested in the left-half of the solid white line, which correspons to a positive x-derivative and a negative y-derivative\n",
    "# Generate a mask that identifies pixels based on the sign of their x-derivative\n",
    "mask_sobelx_pos = (sobelx > 0)\n",
    "mask_sobelx_neg = (sobelx < 0)\n",
    "mask_sobely_pos = (sobely > 0)\n",
    "mask_sobely_neg = (sobely < 0)"
   ]
  },
  {
   "cell_type": "markdown",
   "id": "2df1dfcc-1cf2-45b6-ba18-0e18a41840cd",
   "metadata": {},
   "source": [
    "Now, lets combine these masks to see their effect on the edge detections, but let's look at the effects of the gradient-based masks before including those based on color."
   ]
  },
  {
   "cell_type": "code",
   "execution_count": null,
   "id": "2ff5d482-f783-4bdc-9201-7886ec038deb",
   "metadata": {},
   "outputs": [],
   "source": [
    "# Let's combine these masks with the gradient magnitude mask\n",
    "mask_left_edge = mask_ground * mask_left * mask_mag * mask_sobelx_neg * mask_sobely_neg\n",
    "mask_right_edge = mask_ground * mask_right * mask_mag * mask_sobelx_pos * mask_sobely_neg\n",
    "\n",
    "fig = plt.figure(figsize = (30,10))\n",
    "ax1 = fig.add_subplot(2,4,1)\n",
    "ax1.imshow(img_gaussian_filter,cmap = 'gray')\n",
    "ax1.set_title('Gaussian Blur'), ax1.set_xticks([]), ax1.set_yticks([])\n",
    "ax2 = fig.add_subplot(2,4,2)\n",
    "ax2.imshow(mask_mag*Gmag,cmap = 'gray')\n",
    "ax2.set_title('Gradient Magnitude (Masked)'), ax2.set_xticks([]), ax2.set_yticks([])\n",
    "ax3 = fig.add_subplot(2,4,3)\n",
    "ax3.imshow(Gmag * mask_left_edge, cmap = 'gray')\n",
    "ax3.set_title('Lane Edge (Left)'), ax3.set_xticks([]), ax3.set_yticks([])\n",
    "ax4 = fig.add_subplot(2,4,4)\n",
    "ax4.imshow(Gmag * mask_right_edge,cmap = 'gray')\n",
    "ax4.set_title('Lane Edge (Right)'), ax4.set_xticks([]), ax4.set_yticks([]);\n",
    "\n",
    "ax6 = fig.add_subplot(2,4,6)\n",
    "ax6.imshow(mask_mag*Gmag,cmap = 'gray')\n",
    "ax6.set_title('Gradient Magnitude (Masked)'), ax6.set_xticks([]), ax6.set_yticks([])\n",
    "ax7 = fig.add_subplot(2,4,7)\n",
    "ax7.imshow(img_gaussian_filter,cmap = 'gray')\n",
    "ax7.imshow(Gmag * mask_left_edge, cmap='jet', alpha=0.5)\n",
    "ax7.set_title('Lane Edge (Left)'), ax7.set_xticks([]), ax7.set_yticks([])\n",
    "ax8 = fig.add_subplot(2,4,8)\n",
    "ax8.imshow(img_gaussian_filter,cmap = 'gray')\n",
    "ax8.imshow(Gmag * mask_right_edge, cmap='jet', alpha=0.5)\n",
    "ax8.set_title('Lane Edge (Right)'), ax8.set_xticks([]), ax8.set_yticks([]);"
   ]
  },
  {
   "cell_type": "markdown",
   "id": "9c8f7499-9ce7-435b-8852-99c2e48a83da",
   "metadata": {},
   "source": [
    "We see that the inclusion of (a simple version of) non-maximal supression together with masking based on the image gradients has helped to filter out many of the distractor edges. However, the \"Lane Edge (Left)\" gradients include edges that don't correspond to lane markings (i.e., the bright-to-dark transition at the edge of the road). The \"Lane Edge (Right)\" gradients better isolate the edge caused by the solid-white line.\n",
    "\n",
    "### Example: Dominant Gradient Orientations\n",
    "\n",
    "Now, we want to estimate the gradient orientations for the dashed-yellow and solid-white lane markings. To that end, let's look at the gradient histogram for the left edge and right edge images."
   ]
  },
  {
   "cell_type": "code",
   "execution_count": null,
   "id": "fba1ac8a-5c4a-45fa-b812-ff5727a94254",
   "metadata": {
    "tags": []
   },
   "outputs": [],
   "source": [
    "# Now, let's apply the mask to our gradient directions\n",
    "fig = plt.figure(figsize = (10,5))\n",
    "ax1 = fig.add_subplot(1,2,1)\n",
    "ax1.hist(np.extract(mask_left_edge, Gdir).flatten(), bins=30)\n",
    "ax1.set_title('Gradient Direction Histogram (Left Edge)')\n",
    "ax2 = fig.add_subplot(1,2,2)\n",
    "ax2.hist(np.extract(mask_right_edge, Gdir).flatten(), bins=30)\n",
    "ax2.set_title('Gradient Direction Histogram (Right Edge)');"
   ]
  },
  {
   "cell_type": "markdown",
   "id": "9bf3794d-d449-4f03-924d-5002ec4328f5",
   "metadata": {},
   "source": [
    "Looking at the gradient histogram for the \"Right Edge\", we see that the large majority of the edges have an orientation around 315 degrees, while there are few outliers with orientations between 0 and 100 degrees and between 250 and 350 degrees. This is consistent with the gradients that we visualize above in the \"Lane Edge (Right)\" images above. The $\\sim$315 degree orientation is consistent with the dominant edge associated with the solid-white lane marking (i.e., the gradient points to the upper-right).\n",
    "\n",
    "Now, let's incorporate the color-based masks."
   ]
  },
  {
   "cell_type": "code",
   "execution_count": null,
   "id": "0dbe5005-b9ef-4346-9c6f-db5ac5b93c2e",
   "metadata": {},
   "outputs": [],
   "source": [
    "# Let's generate the complete set of masks, including those based on color\n",
    "mask_left_edge = mask_ground * mask_left * mask_mag * mask_sobelx_neg * mask_sobely_neg * mask_yellow\n",
    "mask_right_edge = mask_ground * mask_right * mask_mag * mask_sobelx_pos * mask_sobely_neg * mask_white\n",
    "\n",
    "fig = plt.figure(figsize = (30,10))\n",
    "ax1 = fig.add_subplot(2,4,1)\n",
    "ax1.imshow(img_gaussian_filter,cmap = 'gray')\n",
    "ax1.set_title('Gaussian Blur'), ax1.set_xticks([]), ax1.set_yticks([])\n",
    "ax2 = fig.add_subplot(2,4,2)\n",
    "ax2.imshow(mask_mag*Gmag,cmap = 'gray')\n",
    "ax2.set_title('Gradient Magnitude (Masked)'), ax2.set_xticks([]), ax2.set_yticks([])\n",
    "ax3 = fig.add_subplot(2,4,3)\n",
    "ax3.imshow(Gmag * mask_left_edge, cmap = 'gray')\n",
    "ax3.set_title('Lane Edge (Left)'), ax3.set_xticks([]), ax3.set_yticks([])\n",
    "ax4 = fig.add_subplot(2,4,4)\n",
    "ax4.imshow(Gmag * mask_right_edge,cmap = 'gray')\n",
    "ax4.set_title('Lane Edge (Right)'), ax4.set_xticks([]), ax4.set_yticks([]);\n",
    "\n",
    "ax6 = fig.add_subplot(2,4,6)\n",
    "ax6.imshow(mask_mag*Gmag,cmap = 'gray')\n",
    "ax6.set_title('Gradient Magnitude (Masked)'), ax6.set_xticks([]), ax6.set_yticks([])\n",
    "ax7 = fig.add_subplot(2,4,7)\n",
    "ax7.imshow(img_gaussian_filter,cmap = 'gray')\n",
    "ax7.imshow(Gmag * mask_left_edge, cmap='jet', alpha=0.5)\n",
    "ax7.set_title('Lane Edge (Left)'), ax7.set_xticks([]), ax7.set_yticks([])\n",
    "ax8 = fig.add_subplot(2,4,8)\n",
    "ax8.imshow(img_gaussian_filter,cmap = 'gray')\n",
    "ax8.imshow(Gmag * mask_right_edge, cmap='jet', alpha=0.5)\n",
    "ax8.set_title('Lane Edge (Right)'), ax8.set_xticks([]), ax8.set_yticks([]);"
   ]
  },
  {
   "cell_type": "markdown",
   "id": "78273e00-f461-400a-a2bb-34b8065b9fb4",
   "metadata": {},
   "source": [
    "We can see that incorporating the color-based masks has removed most if not all of the outliers, but has also removed some of the valid edges, particularly those associated with the solid-white lane markings.\n",
    "\n",
    "Let's look at the corresponding historgrams."
   ]
  },
  {
   "cell_type": "code",
   "execution_count": null,
   "id": "0612b890-cd68-4075-b55a-87363485f4a7",
   "metadata": {},
   "outputs": [],
   "source": [
    "# Now, let's apply the full set of masks to our gradient directions\n",
    "fig = plt.figure(figsize = (10,5))\n",
    "ax1 = fig.add_subplot(1,2,1)\n",
    "ax1.hist(np.extract(mask_left_edge, Gdir).flatten(), bins=30)\n",
    "ax1.set_title('Gradient Direction Histogram (Left Edge)')\n",
    "ax2 = fig.add_subplot(1,2,2)\n",
    "ax2.hist(np.extract(mask_right_edge, Gdir).flatten(), bins=30)\n",
    "ax2.set_title('Gradient Direction Histogram (Right Edge)');"
   ]
  },
  {
   "cell_type": "markdown",
   "id": "37801ebf-fc18-4a92-a3cf-44fdc82f1a21",
   "metadata": {},
   "source": [
    "Consistent with what we saw above, incorporating the color-based masks has effectively removed the large number of edges that lead to a dominant mode around 260 degrees in the previous histogram for the left edge. Now, there is a single dominant mode for each of the edges.\n",
    "\n",
    "Now, you might be wondering why we don't use these angles for control. Afterall, you might expect that we could use any deviations in the gradient orientations associated with the left and right lane markings in order to steer the vehicle back into the lane. However, the image-space orientations don't change significantly as the vehicle's orientation relative to the lane changes, implying that there isn't as much useful signal here as we might expect"
   ]
  },
  {
   "cell_type": "markdown",
   "id": "b16757f5-2677-46e1-bca6-f13bcab16bba",
   "metadata": {},
   "source": [
    "# 💻 🚙 Write the lane-following function\n",
    "\n",
    "Now that we have an understanding of how we might go about detecting the left (dashed-yellow) and right (solid-white) lane markings, we can integrate these components into a reactive controller that seeks to keep the Duckiebot in its lane.\n",
    "\n",
    "In particular, if the Duckiebot is commanded to travel forward at a fixed velocity, we can imagine controlling the steering (angular rate) as follows:\n",
    "\n",
    "\n",
    "```python\n",
    "steering  = np.sum( STEER_LEFT_LM * left_lane_markings_img) + np.sum( STEER_RIGHT_LM * right_lane_markings_img)\n",
    "```\n",
    "\n",
    "where `STEER_LEFT_LM` and `STEER_RIGHT_LM` are weight matrices that map the image-space locations of the detected left (dashed-yellow) lane markings to the steering (angular rate) commands.\n",
    "\n",
    "In doing so we ask you to define two sets of functions:\n",
    "\n",
    "1. A set of two functions that define these weight matrices;\n",
    "\n",
    "2. A function that takes as input the image from the Duckiebot's camera and outputs two images, one corresponding to the image-space detections of the left (dashed-yellow) and right (solid-white) lane markings.\n",
    "\n",
    "These functions will then be combined to control the Duckiebot."
   ]
  },
  {
   "cell_type": "markdown",
   "id": "578f68a9-053f-40e1-a845-061567d08345",
   "metadata": {},
   "source": [
    "## Define the left and right lane marking matrices\n",
    "\n",
    "We will control the steering according to a weighted combination of the left and right lane markings. Below, we ask you to implement the following two functions that create weight matricies for the left and right lane markings."
   ]
  },
  {
   "cell_type": "markdown",
   "id": "291c0ff3-000f-48e7-8390-4ff0ccec1dbf",
   "metadata": {},
   "source": [
    "⚠️ ***WARNING:***\n",
    "- DO NOT CHANGE THE NAME OF THE FOLLOWING FUNCTION\n",
    "- DO NOT CHANGE THE ARGUMENTS OF THE FUNCTION\n",
    "- DO NOT CREATE NEW CODE CELLS, THEY WILL NOT BE CONSIDERED"
   ]
  },
  {
   "cell_type": "code",
   "execution_count": null,
   "id": "274b8061-1a05-457f-8180-25cc96837487",
   "metadata": {
    "tags": [
     "export"
    ]
   },
   "outputs": [],
   "source": [
    "# The function written in this cell will actually be ran on your robot (sim or real). \n",
    "# Put together the steps above and write your DeltaPhi function! \n",
    "# DO NOT CHANGE THE NAME OF THIS FUNCTION, INPUTS OR OUTPUTS, OR THINGS WILL BREAK\n",
    "\n",
    "import cv2\n",
    "import numpy as np\n",
    "\n",
    "\n",
    "def get_steer_matrix_left_lane_markings(shape):\n",
    "    \"\"\"\n",
    "        Args:\n",
    "            shape: The shape of the steer matrix (tuple of ints)\n",
    "        Return:\n",
    "            steer_matrix_left_lane: The steering (angular rate) matrix for Braitenberg-like control \n",
    "                                    using the masked left lane markings (numpy.ndarray)\n",
    "    \"\"\"\n",
    "    \n",
    "    steer_matrix_left_lane = np.random.rand(*shape)\n",
    "\n",
    "    return steer_matrix_left_lane"
   ]
  },
  {
   "cell_type": "code",
   "execution_count": null,
   "id": "1152ae59-9bc5-4820-a8ae-5f7d45a198d3",
   "metadata": {
    "tags": [
     "export"
    ]
   },
   "outputs": [],
   "source": [
    "# The function written in this cell will actually be ran on your robot (sim or real). \n",
    "# Put together the steps above and write your DeltaPhi function! \n",
    "# DO NOT CHANGE THE NAME OF THIS FUNCTION, INPUTS OR OUTPUTS, OR THINGS WILL BREAK\n",
    "\n",
    "\n",
    "def get_steer_matrix_right_lane_markings(shape):\n",
    "    \"\"\"\n",
    "        Args:\n",
    "            shape: The shape of the steer matrix (tuple of ints)\n",
    "        Return:\n",
    "            steer_matrix_right_lane: The steering (angular rate) matrix for Braitenberg-like control \n",
    "                                     using the masked right lane markings (numpy.ndarray)\n",
    "    \"\"\"\n",
    "    \n",
    "    steer_matrix_right_lane = np.random.rand(*shape)\n",
    "\n",
    "    return steer_matrix_right_lane"
   ]
  },
  {
   "cell_type": "markdown",
   "id": "5e4884bb-cadc-48ce-9049-27589e32c780",
   "metadata": {},
   "source": [
    "## Detecting the left and right lane markings \n",
    "\n",
    "Based on what we have learned above, write a function that takes as input the image from the Duckiebot's camera (in the BGR color space) and outputs two images, one corresponding to the filtered left (dashed-yellow) lane markings and the other for the right (solid-white) lane markings. These images can be in the form of the binary masks that we developed above.\n",
    "\n",
    "The two lane marking images will then be used together with the weight matrices defined above to control the Duckiebot."
   ]
  },
  {
   "cell_type": "markdown",
   "id": "f135f07a-7a41-4c7d-9208-850e8c5d2bb0",
   "metadata": {},
   "source": [
    "⚠️ ***WARNING:***\n",
    "- DO NOT CHANGE THE NAME OF THE FOLLOWING FUNCTION\n",
    "- DO NOT CHANGE THE ARGUMENTS OF THE FUNCTION\n",
    "- DO NOT CREATE NEW CODE CELLS, THEY WILL NOT BE CONSIDERED"
   ]
  },
  {
   "cell_type": "code",
   "execution_count": null,
   "id": "847717de-ee7f-4d44-8f89-a6012b4d6a65",
   "metadata": {
    "tags": [
     "export"
    ]
   },
   "outputs": [],
   "source": [
    "# The function written in this cell will actually be ran on your robot (sim or real). \n",
    "# Put together the steps above and write your DeltaPhi function! \n",
    "# DO NOT CHANGE THE NAME OF THIS FUNCTION, INPUTS OR OUTPUTS, OR THINGS WILL BREAK\n",
    "\n",
    "import cv2\n",
    "import numpy as np\n",
    "\n",
    "\n",
    "def detect_lane_markings(image):\n",
    "    \"\"\"\n",
    "        Args:\n",
    "            image: An image from the robot's camera in the BGR color space (numpy.ndarray)\n",
    "        Return:\n",
    "            left_masked_img:   Masked image for the dashed-yellow line (numpy.ndarray)\n",
    "            right_masked_img:  Masked image for the solid-white line (numpy.ndarray)\n",
    "    \"\"\"\n",
    "    \n",
    "    h, w, _ = image.shape\n",
    "    \n",
    "    mask_left_edge = np.random.rand(h, w)\n",
    "    mask_right_edge = np.random.rand(h, w)\n",
    "    \n",
    "    return (mask_left_edge, mask_right_edge)"
   ]
  },
  {
   "cell_type": "markdown",
   "id": "66a018e9-e570-49ab-b1b7-cabb23cd2a69",
   "metadata": {},
   "source": [
    "### Test the `detect_lane_markings()` function\n",
    "\n",
    "As we have seen, unit tests are valuable in confirming that a particular piece of code works as intended when provided with an expected input.\n",
    "\n",
    "Let's see if the function you wrote above passes the following test!"
   ]
  },
  {
   "cell_type": "code",
   "execution_count": null,
   "id": "7554f27d-eefb-45e8-a86f-8530217f2326",
   "metadata": {},
   "outputs": [],
   "source": [
    "import sys\n",
    "sys.path.append('../')\n",
    "from unit_test import UnitTestDLM\n",
    "\n",
    "# The test provides an image to your detect_lane_markings function and visualizes the left and right masks that it produced.\n",
    "\n",
    "UnitTestDLM(detect_lane_markings)"
   ]
  },
  {
   "cell_type": "markdown",
   "id": "01157624-f895-4288-b441-09c0e5c7104b",
   "metadata": {},
   "source": [
    "## 💻 Test your controller in the simulator\n",
    "\n",
    "1. Open a terminal on your computer, and type \n",
    "\n",
    "       dts exercises build\n",
    "\n",
    "<br>\n",
    "2. Wait for the build to finish, then type:\n",
    "\n",
    "       dts exercises test --sim\n",
    "\n",
    "\n",
    "3. Open VNC on you browser and click on the `VLS - Visual Lane Servoing Exercise` icon on your desktop. You will see the following open (it might take ~30 seconds or more, depending on the specifications of your computer):\n",
    "\n",
    "    - A preconfigured RVIZ: to visualize your detections\n",
    "    - A GUI with buttons labeled `Go`, `Calibration`, and `Stop`.\n",
    "\n",
    "**Note**: Clicking on the icon will also bring up an LX terminal, which may print out an error message that stating \"Tried to advertise a service that is already advertised in this node ...\". You can ignore this error.\n",
    "\n",
    "On the right side of the  RVIZ window, you should see three images: the top is the current image from the Duckiebot's camera, the middle is a visualization of your right lane marking detections, and the bottom is a visualization of your left lane marking detections. \n",
    "\n",
    "On the terminal on your computer where you launched the activity, you will see some some initial instructions as well as some debugging information.\n",
    "\n",
    "Once everything is running, you should see instructions on your terminal to calibrate the visual servoing controller. As described above, the `STEER_LEFT_LM` and `STEER_RIGHT_LM` matrices that you defined above will be multiplied by your left and right detection masks, respectively, and the result is then summed to arrive at a scalar value for steering. In practice, the magnitude of this value will be large and unknown. As part of the calibration procedure, you rotate the Duciebot to different orientations in its lane and the extremes of the resulting steer values will be used to define the range of values.\n",
    "\n",
    "Once you have finished calibrating, you can click the `Go` button to start your controller. You can hit the `Stop` button at any point to stop the Duckiebot. The Duckiebot will start driving when you hit `Go`.\n",
    "\n",
    "To test different solutions, change the `get_steer_matrix_left_lane_markings`, `get_steer_matrix_right_lane_markings`, and `detect_lane_markings` functions above. Each time you do, make sure to save this file (`Ctrl-S`) and then re-run the activity with `dts exercises test --sim`. "
   ]
  },
  {
   "cell_type": "markdown",
   "id": "e63a6d24-f3b1-4d31-9124-351fd43163a0",
   "metadata": {},
   "source": [
    "## 🚙 Test the controller on your Duckiebot\n",
    "\n",
    "1. Open a terminal on your computer, and type \n",
    "\n",
    "       dts exercises build\n",
    "\n",
    "<br>       \n",
    "2. Wait for the build to finish, then type:\n",
    "\n",
    "       dts exercises test -b ROBOTNAME\n",
    "\n",
    "\n",
    "3. Follow the same instructions at point 3 for the simulation-based evaluation above. \n",
    "\n",
    "Note: we suggest to start at very slow speeds with the physical Duckiebot, and get a hang of the interface first. Going wasted in simulation is just a matter of re-setting the instance. Having the Duckiebot go wasted in the physical world might be significantly more time consuming!\n",
    "\n",
    "To test different solutions, change the `get_steer_matrix_left_lane_markings`, `get_steer_matrix_right_lane_markings`, and `detect_lane_markings` functions above. Each time you do, make sure to save this file (`Ctrl-S`) and then re-run the activity with `dts exercises test -b ROBOTNAME`."
   ]
  },
  {
   "cell_type": "markdown",
   "id": "65e20467-3af3-4f2f-bc50-f0f2ed2026f6",
   "metadata": {},
   "source": [
    "# Local evaluation and remote submission of your homework exercise\n",
    "\n",
    "\n",
    "## Local evaluation\n",
    "\n",
    "If you want (this is not necessary) you can evaluate your submission locally before shipping it to the cloud. This will provide you access to detailed performacne metrics of your implementation on various episodes. Note that this will take a while to run (~30-60 minutes). \n",
    "\n",
    "1. Open a terminal, navigate to the exercise folder and run:\n",
    "\n",
    "\n",
    "        dts challenges evaluate\n",
    "        \n",
    "\n",
    "2. The result of the simulation can be visualized in realtime at the link printed by the evaluator, for example:\n",
    "\n",
    "\n",
    "3. The evaluation output is saved locally at the end of the evaluation process. \n",
    "\n",
    "## Remote submission\n",
    "\n",
    "You can submit your agent for evaluation by: \n",
    "\n",
    "1. Opening a terminal on your computer, navigating to the exercise folder and running:\n",
    "\n",
    "\n",
    "        dts challenges submit\n",
    "        \n",
    "\n",
    "2. The result of the submission can be visualize on the AIDO challenges website:\n",
    "\n",
    "After some processing, you should see something like this:\n",
    "\n",
    "```\n",
    "\n",
    "~        ## Challenge mooc-viscontrol - MOOC - Visual Lane Servoing\n",
    "~        \n",
    "~                Track this submission at:\n",
    "~        \n",
    "~                    https://challenges.duckietown.org/v4/humans/submissions/SUBMISSION-NUMBER\n",
    "~        \n",
    "~                You can follow its fate using:\n",
    "~        \n",
    "~                    $ dts challenges follow --submission SUBMISSION-NUMBER\n",
    "~        \n",
    "~                You can speed up the evaluation using your own evaluator:\n",
    "~        \n",
    "~                    $ dts challenges evaluator --submission SUBMISSION-NUMBER\n",
    "~        \n",
    "~                For more information, see the manual at https://docs.duckietown.org/daffy/AIDO/out/\n",
    "~        \n",
    "\n",
    "```"
   ]
  },
  {
   "cell_type": "markdown",
   "id": "930b45cd-5a5f-460b-88f8-fb4dd6699634",
   "metadata": {},
   "source": [
    "## 💡 Reflecting on the experience\n",
    "\n",
    "The above strategy is a reasonable first approach to steering your Duckiebot in order to stay in its lane. Depending on your impelementation and your environment, you may even have found that it does a decent job staying in the lane, even around curves. However, as you have likely seen, there are a number of limitations of the approach:\n",
    "\n",
    "* Our strategy for detecting lane markings and designing weight matrices limits the the road geometries that it the Duckiebot can handle. While it may do a decent job navigating gradual curves, it likely can't handle sharp turns or T-intersections, among others;\n",
    "\n",
    "* The detection algorithm is sensitive to changes in illumination, which can result in failed detections (e.g., valid pixels are being filtered out as a result of color masking), and clutter, which can result in erroneous detections (e.g., your Duciebot may hallucinate lane markings on the wall, on duckies, or elsewhere in the town) that cause the Duckiebot to steer in unpredictable ways.\n",
    "\n",
    "Nonetheless, hopefully this introduced you to some of the core concepts of image filtering and how you might use it to control the motion of your Duckiebot. Hopefully, it also provided you with first-hand knowledge of some of the challenges of distilling information from images and using them for control, which should set the stage for upcoming topics in the class."
   ]
  },
  {
   "cell_type": "code",
   "execution_count": null,
   "id": "f1100aea-31c3-4c29-9cc9-47f94b636b1b",
   "metadata": {},
   "outputs": [],
   "source": []
  }
 ],
 "metadata": {
  "kernelspec": {
   "display_name": "Python 3 (ipykernel)",
   "language": "python",
   "name": "python3"
  },
  "language_info": {
   "codemirror_mode": {
    "name": "ipython",
    "version": 3
   },
   "file_extension": ".py",
   "mimetype": "text/x-python",
   "name": "python",
   "nbconvert_exporter": "python",
   "pygments_lexer": "ipython3",
   "version": "3.8.10"
  }
 },
 "nbformat": 4,
 "nbformat_minor": 5
}
